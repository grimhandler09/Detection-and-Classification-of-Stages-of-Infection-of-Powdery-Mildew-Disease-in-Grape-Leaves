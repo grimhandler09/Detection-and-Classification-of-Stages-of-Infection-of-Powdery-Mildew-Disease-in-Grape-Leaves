{
  "nbformat": 4,
  "nbformat_minor": 0,
  "metadata": {
    "kernelspec": {
      "display_name": "Python 3",
      "language": "python",
      "name": "python3"
    },
    "language_info": {
      "codemirror_mode": {
        "name": "ipython",
        "version": 3
      },
      "file_extension": ".py",
      "mimetype": "text/x-python",
      "name": "python",
      "nbconvert_exporter": "python",
      "pygments_lexer": "ipython3",
      "version": "3.7.0"
    },
    "colab": {
      "provenance": []
    }
  },
  "cells": [
    {
      "cell_type": "code",
      "metadata": {
        "id": "zA1z7--r8k9_"
      },
      "source": [
        "import cv2\n",
        "from PIL import Image\n",
        "import numpy as np"
      ],
      "execution_count": null,
      "outputs": []
    },
    {
      "cell_type": "code",
      "metadata": {
        "colab": {
          "base_uri": "https://localhost:8080/"
        },
        "id": "TC5xC2XRI7GU",
        "outputId": "2806b1d6-ccaa-4315-ce19-d10536cafefa"
      },
      "source": [
        "from google.colab import drive\n",
        "drive.mount('/content/drive')"
      ],
      "execution_count": null,
      "outputs": [
        {
          "output_type": "stream",
          "text": [
            "Mounted at /content/drive\n"
          ],
          "name": "stdout"
        }
      ]
    },
    {
      "cell_type": "code",
      "metadata": {
        "id": "9z6bIYrg8k9_"
      },
      "source": [
        "org_raster_image=Image.open(\"/content/drive/MyDrive/leaf_raster.JPG\")\n",
        "pixels_raster = org_raster_image.load()\n",
        "(width,height)=org_raster_image.size\n",
        "#print(width)\n",
        "crop = Image.new( 'RGB', (width,height), \"black\") # create a new black image\n",
        "crop_pixels=crop.load()\n",
        "mask=Image.open(\"/content/drive/MyDrive/leaf_mask.png\").convert('L')\n",
        "mask_array=np.array(mask)\n",
        "pixels_mask = mask.load()\n",
        "for i in range(mask.size[0]):    # for every col:\n",
        "    for j in range(mask.size[1]):    # For every row\n",
        "        if(pixels_mask[i,j] ==119):\n",
        "            r, g, b = pixels_raster[i,j]\n",
        "            crop_pixels[i,j]=(r,g,b)\n",
        "\n",
        "crop.save('cropped_leaf.png')\n",
        "crop.show()\n"
      ],
      "execution_count": null,
      "outputs": []
    },
    {
      "cell_type": "code",
      "metadata": {
        "colab": {
          "base_uri": "https://localhost:8080/"
        },
        "id": "qHG-ZiIn8k-A",
        "outputId": "42db56e6-a511-4bca-81dd-931677193f80"
      },
      "source": [
        "np.array(mask)"
      ],
      "execution_count": null,
      "outputs": [
        {
          "output_type": "execute_result",
          "data": {
            "text/plain": [
              "array([[255, 255, 255, ..., 255, 255, 255],\n",
              "       [255,   0,   0, ...,   0,   0, 255],\n",
              "       [255,   0,   0, ...,   0,   0, 255],\n",
              "       ...,\n",
              "       [255,   0,   0, ...,   0,   0, 255],\n",
              "       [255,   0,   0, ...,   0,   0, 255],\n",
              "       [255, 255, 255, ..., 255, 255, 255]], dtype=uint8)"
            ]
          },
          "metadata": {
            "tags": []
          },
          "execution_count": 4
        }
      ]
    },
    {
      "cell_type": "code",
      "metadata": {
        "id": "TNbZ0YLuJLyO"
      },
      "source": [],
      "execution_count": null,
      "outputs": []
    }
  ]
}