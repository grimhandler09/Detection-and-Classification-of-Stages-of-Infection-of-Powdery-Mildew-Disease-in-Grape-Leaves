{
  "nbformat": 4,
  "nbformat_minor": 0,
  "metadata": {
    "accelerator": "GPU",
    "colab": {
      "provenance": [],
      "collapsed_sections": []
    },
    "kernelspec": {
      "display_name": "Python 3",
      "language": "python",
      "name": "python3"
    },
    "language_info": {
      "codemirror_mode": {
        "name": "ipython",
        "version": 3
      },
      "file_extension": ".py",
      "mimetype": "text/x-python",
      "name": "python",
      "nbconvert_exporter": "python",
      "pygments_lexer": "ipython3",
      "version": "3.7.0"
    }
  },
  "cells": [
    {
      "cell_type": "code",
      "metadata": {
        "colab": {
          "base_uri": "https://localhost:8080/"
        },
        "id": "FneWJ-L-pRSi",
        "outputId": "e8573d4b-affe-4718-e776-02e3c2c68634"
      },
      "source": [
        "from google.colab import drive\n",
        "drive.mount('/content/drive')"
      ],
      "execution_count": null,
      "outputs": [
        {
          "output_type": "stream",
          "text": [
            "Mounted at /content/drive\n"
          ],
          "name": "stdout"
        }
      ]
    },
    {
      "cell_type": "code",
      "metadata": {
        "id": "ggb9_R4texI9",
        "colab": {
          "base_uri": "https://localhost:8080/"
        },
        "outputId": "82ca721c-0f53-4121-99c5-d35c1e8a0ae9"
      },
      "source": [
        "%tensorflow_version 1.x\n"
      ],
      "execution_count": null,
      "outputs": [
        {
          "output_type": "stream",
          "text": [
            "TensorFlow 1.x selected.\n"
          ],
          "name": "stdout"
        }
      ]
    },
    {
      "cell_type": "code",
      "metadata": {
        "colab": {
          "base_uri": "https://localhost:8080/",
          "height": 35
        },
        "id": "p7LtQj2BSl3l",
        "outputId": "ea8ab788-9b9d-4783-c667-f65dd4a40328"
      },
      "source": [
        "import tensorflow as tf \n",
        "tf.__version__\n"
      ],
      "execution_count": null,
      "outputs": [
        {
          "output_type": "execute_result",
          "data": {
            "application/vnd.google.colaboratory.intrinsic+json": {
              "type": "string"
            },
            "text/plain": [
              "'1.15.2'"
            ]
          },
          "metadata": {
            "tags": []
          },
          "execution_count": 3
        }
      ]
    },
    {
      "cell_type": "code",
      "metadata": {
        "colab": {
          "base_uri": "https://localhost:8080/"
        },
        "id": "U9X1zcRWxzJI",
        "outputId": "cea9511e-ed5e-40a9-dfe6-6b4fe4778d38"
      },
      "source": [
        "!unzip '/content/drive/MyDrive/classificationdataset.zip'"
      ],
      "execution_count": null,
      "outputs": [
        {
          "output_type": "stream",
          "text": [
            "Archive:  /content/drive/MyDrive/classificationdataset.zip\n",
            "   creating: classification/\n",
            "   creating: classification/test/\n",
            "   creating: classification/test/0 scale/\n",
            "  inflating: classification/test/0 scale/cropped_leaf.117.png  \n",
            "  inflating: classification/test/0 scale/cropped_leaf.119.png  \n",
            "  inflating: classification/test/0 scale/cropped_leaf.12.png  \n",
            "  inflating: classification/test/0 scale/cropped_leaf.120.png  \n",
            "  inflating: classification/test/0 scale/cropped_leaf.123.png  \n",
            "  inflating: classification/test/0 scale/cropped_leaf.126.png  \n",
            "  inflating: classification/test/0 scale/cropped_leaf.13.png  \n",
            "  inflating: classification/test/0 scale/cropped_leaf.15.png  \n",
            "  inflating: classification/test/0 scale/cropped_leaf.151.png  \n",
            "  inflating: classification/test/0 scale/cropped_leaf.152.png  \n",
            "  inflating: classification/test/0 scale/cropped_leaf.16.png  \n",
            "  inflating: classification/test/0 scale/cropped_leaf.17.png  \n",
            "  inflating: classification/test/0 scale/cropped_leaf.172.png  \n",
            "  inflating: classification/test/0 scale/cropped_leaf.1789.png  \n",
            "  inflating: classification/test/0 scale/cropped_leaf.179.png  \n",
            "  inflating: classification/test/0 scale/cropped_leaf.18.png  \n",
            "  inflating: classification/test/0 scale/cropped_leaf.186.png  \n",
            "  inflating: classification/test/0 scale/cropped_leaf.187.png  \n",
            "  inflating: classification/test/0 scale/cropped_leaf.19.png  \n",
            "  inflating: classification/test/0 scale/cropped_leaf.196.png  \n",
            "  inflating: classification/test/0 scale/cropped_leaf.20.png  \n",
            "  inflating: classification/test/0 scale/cropped_leaf.204.png  \n",
            "  inflating: classification/test/0 scale/cropped_leaf.21.png  \n",
            "  inflating: classification/test/0 scale/cropped_leaf.22.png  \n",
            "  inflating: classification/test/0 scale/cropped_leaf.58.png  \n",
            "  inflating: classification/test/0 scale/cropped_leaf.61.png  \n",
            "  inflating: classification/test/0 scale/cropped_leaf.62.png  \n",
            "   creating: classification/test/1 scale/\n",
            "  inflating: classification/test/1 scale/cropped_leaf.107.png  \n",
            "  inflating: classification/test/1 scale/cropped_leaf.108.png  \n",
            "  inflating: classification/test/1 scale/cropped_leaf.109.png  \n",
            "  inflating: classification/test/1 scale/cropped_leaf.110.png  \n",
            "  inflating: classification/test/1 scale/cropped_leaf.111.png  \n",
            "  inflating: classification/test/1 scale/cropped_leaf.112.png  \n",
            "  inflating: classification/test/1 scale/cropped_leaf.113.png  \n",
            "  inflating: classification/test/1 scale/cropped_leaf.115.png  \n",
            "  inflating: classification/test/1 scale/cropped_leaf.116.png  \n",
            "  inflating: classification/test/1 scale/cropped_leaf.121.png  \n",
            "  inflating: classification/test/1 scale/cropped_leaf.124.png  \n",
            "  inflating: classification/test/1 scale/cropped_leaf.125.png  \n",
            "  inflating: classification/test/1 scale/cropped_leaf.127.png  \n",
            "  inflating: classification/test/1 scale/cropped_leaf.128.png  \n",
            "  inflating: classification/test/1 scale/cropped_leaf.129.png  \n",
            "  inflating: classification/test/1 scale/cropped_leaf.130.png  \n",
            "  inflating: classification/test/1 scale/cropped_leaf.132.png  \n",
            "  inflating: classification/test/1 scale/cropped_leaf.133.png  \n",
            "  inflating: classification/test/1 scale/cropped_leaf.135.png  \n",
            "  inflating: classification/test/1 scale/cropped_leaf.138.png  \n",
            "  inflating: classification/test/1 scale/cropped_leaf.139.png  \n",
            "  inflating: classification/test/1 scale/cropped_leaf.143.png  \n",
            "  inflating: classification/test/1 scale/cropped_leaf.144.png  \n",
            "  inflating: classification/test/1 scale/cropped_leaf.145.png  \n",
            "  inflating: classification/test/1 scale/cropped_leaf.146.png  \n",
            "  inflating: classification/test/1 scale/cropped_leaf.147.png  \n",
            "  inflating: classification/test/1 scale/cropped_leaf.149.png  \n",
            "  inflating: classification/test/1 scale/cropped_leaf.150.png  \n",
            "  inflating: classification/test/1 scale/cropped_leaf.197.png  \n",
            "  inflating: classification/test/1 scale/cropped_leaf.200.png  \n",
            "  inflating: classification/test/1 scale/cropped_leaf.203.png  \n",
            "  inflating: classification/test/1 scale/cropped_leaf.209.png  \n",
            "  inflating: classification/test/1 scale/cropped_leaf.212.png  \n",
            "  inflating: classification/test/1 scale/cropped_leaf.234.png  \n",
            "  inflating: classification/test/1 scale/cropped_leaf.294.png  \n",
            "  inflating: classification/test/1 scale/cropped_leaf.343.png  \n",
            "  inflating: classification/test/1 scale/cropped_leaf.420.png  \n",
            "  inflating: classification/test/1 scale/cropped_leaf.503.png  \n",
            "  inflating: classification/test/1 scale/cropped_leaf.602.png  \n",
            "  inflating: classification/test/1 scale/cropped_leaf.6023.png  \n",
            "  inflating: classification/test/1 scale/cropped_leaf.65.png  \n",
            "  inflating: classification/test/1 scale/cropped_leaf.652.png  \n",
            "  inflating: classification/test/1 scale/cropped_leaf.662.png  \n",
            "  inflating: classification/test/1 scale/cropped_leaf.68.png  \n",
            "  inflating: classification/test/1 scale/cropped_leaf.69.png  \n",
            "  inflating: classification/test/1 scale/cropped_leaf.712.png  \n",
            "  inflating: classification/test/1 scale/cropped_leaf.713.png  \n",
            "  inflating: classification/test/1 scale/cropped_leaf.722.png  \n",
            "  inflating: classification/test/1 scale/cropped_leaf.772.png  \n",
            "  inflating: classification/test/1 scale/cropped_leaf.783.png  \n",
            "  inflating: classification/test/1 scale/cropped_leaf.842.png  \n",
            "  inflating: classification/test/1 scale/cropped_leaf.872.png  \n",
            "  inflating: classification/test/1 scale/cropped_leaf.892.png  \n",
            "  inflating: classification/test/1 scale/cropped_leaf.942.png  \n",
            "   creating: classification/test/2 scale/\n",
            "  inflating: classification/test/2 scale/cropped_leaf.1000.png  \n",
            "  inflating: classification/test/2 scale/cropped_leaf.114.png  \n",
            "  inflating: classification/test/2 scale/cropped_leaf.118.png  \n",
            "  inflating: classification/test/2 scale/cropped_leaf.122.png  \n",
            "  inflating: classification/test/2 scale/cropped_leaf.131.png  \n",
            "  inflating: classification/test/2 scale/cropped_leaf.1334.png  \n",
            "  inflating: classification/test/2 scale/cropped_leaf.134.png  \n",
            "  inflating: classification/test/2 scale/cropped_leaf.136.png  \n",
            "  inflating: classification/test/2 scale/cropped_leaf.137.png  \n",
            "  inflating: classification/test/2 scale/cropped_leaf.140.png  \n",
            "  inflating: classification/test/2 scale/cropped_leaf.141.png  \n",
            "  inflating: classification/test/2 scale/cropped_leaf.1445.png  \n",
            "  inflating: classification/test/2 scale/cropped_leaf.148.png  \n",
            "  inflating: classification/test/2 scale/cropped_leaf.1554.png  \n",
            "  inflating: classification/test/2 scale/cropped_leaf.1666.png  \n",
            "  inflating: classification/test/2 scale/cropped_leaf.1777.png  \n",
            "  inflating: classification/test/2 scale/cropped_leaf.1778.png  \n",
            "  inflating: classification/test/2 scale/cropped_leaf.188.png  \n",
            "  inflating: classification/test/2 scale/cropped_leaf.208.png  \n",
            "  inflating: classification/test/2 scale/cropped_leaf.210.png  \n",
            "  inflating: classification/test/2 scale/cropped_leaf.211.png  \n",
            "  inflating: classification/test/2 scale/cropped_leaf.213.png  \n",
            "  inflating: classification/test/2 scale/cropped_leaf.2156.png  \n",
            "  inflating: classification/test/2 scale/cropped_leaf.226.png  \n",
            "  inflating: classification/test/2 scale/cropped_leaf.227.png  \n",
            "  inflating: classification/test/2 scale/cropped_leaf.228.png  \n",
            "  inflating: classification/test/2 scale/cropped_leaf.233.png  \n",
            "  inflating: classification/test/2 scale/cropped_leaf.31.png  \n",
            "  inflating: classification/test/2 scale/cropped_leaf.3555.png  \n",
            "  inflating: classification/test/2 scale/cropped_leaf.3836.png  \n",
            "  inflating: classification/test/2 scale/cropped_leaf.49.png  \n",
            "  inflating: classification/test/2 scale/cropped_leaf.64.png  \n",
            "  inflating: classification/test/2 scale/cropped_leaf.66.png  \n",
            "  inflating: classification/test/2 scale/cropped_leaf.67.png  \n",
            "  inflating: classification/test/2 scale/cropped_leaf.70.png  \n",
            "  inflating: classification/test/2 scale/cropped_leaf.71.png  \n",
            "  inflating: classification/test/2 scale/cropped_leaf.715.png  \n",
            "  inflating: classification/test/2 scale/cropped_leaf.716.png  \n",
            "  inflating: classification/test/2 scale/cropped_leaf.718.png  \n",
            "  inflating: classification/test/2 scale/cropped_leaf.719.png  \n",
            "  inflating: classification/test/2 scale/cropped_leaf.725.png  \n",
            "  inflating: classification/test/2 scale/cropped_leaf.74.png  \n",
            "  inflating: classification/test/2 scale/cropped_leaf.752.png  \n",
            "  inflating: classification/test/2 scale/cropped_leaf.77.png  \n",
            "  inflating: classification/test/2 scale/cropped_leaf.78.png  \n",
            "  inflating: classification/test/2 scale/cropped_leaf.80.png  \n",
            "  inflating: classification/test/2 scale/cropped_leaf.801.png  \n",
            "  inflating: classification/test/2 scale/cropped_leaf.81.png  \n",
            "  inflating: classification/test/2 scale/cropped_leaf.812.png  \n",
            "  inflating: classification/test/2 scale/cropped_leaf.82.png  \n",
            "  inflating: classification/test/2 scale/cropped_leaf.84.png  \n",
            "  inflating: classification/test/2 scale/cropped_leaf.85.png  \n",
            "  inflating: classification/test/2 scale/cropped_leaf.86.png  \n",
            "  inflating: classification/test/2 scale/cropped_leaf.861.png  \n",
            "  inflating: classification/test/2 scale/cropped_leaf.87.png  \n",
            "  inflating: classification/test/2 scale/cropped_leaf.88.png  \n",
            "  inflating: classification/test/2 scale/cropped_leaf.89.png  \n",
            "  inflating: classification/test/2 scale/cropped_leaf.90.png  \n",
            "  inflating: classification/test/2 scale/cropped_leaf.91.png  \n",
            "  inflating: classification/test/2 scale/cropped_leaf.92.png  \n",
            "  inflating: classification/test/2 scale/cropped_leaf.930.png  \n",
            "  inflating: classification/test/2 scale/cropped_leaf.972.png  \n",
            "  inflating: classification/test/2 scale/cropped_leaf.991.png  \n",
            "   creating: classification/test/3 scale/\n",
            "  inflating: classification/test/3 scale/cropped_leaf.1060.png  \n",
            "  inflating: classification/test/3 scale/cropped_leaf.1090.png  \n",
            "  inflating: classification/test/3 scale/cropped_leaf.1112.png  \n",
            "  inflating: classification/test/3 scale/cropped_leaf.11123.png  \n",
            "  inflating: classification/test/3 scale/cropped_leaf.1123.png  \n",
            "  inflating: classification/test/3 scale/cropped_leaf.1235.png  \n",
            "  inflating: classification/test/3 scale/cropped_leaf.142.png  \n",
            "  inflating: classification/test/3 scale/cropped_leaf.1475.png  \n",
            "  inflating: classification/test/3 scale/cropped_leaf.1888.png  \n",
            "  inflating: classification/test/3 scale/cropped_leaf.198.png  \n",
            "  inflating: classification/test/3 scale/cropped_leaf.1985.png  \n",
            "  inflating: classification/test/3 scale/cropped_leaf.2000.png  \n",
            "  inflating: classification/test/3 scale/cropped_leaf.201.png  \n",
            "  inflating: classification/test/3 scale/cropped_leaf.2011.png  \n",
            "  inflating: classification/test/3 scale/cropped_leaf.202.png  \n",
            "  inflating: classification/test/3 scale/cropped_leaf.2020.png  \n",
            "  inflating: classification/test/3 scale/cropped_leaf.206.png  \n",
            "  inflating: classification/test/3 scale/cropped_leaf.207.png  \n",
            "  inflating: classification/test/3 scale/cropped_leaf.2125.png  \n",
            "  inflating: classification/test/3 scale/cropped_leaf.214.png  \n",
            "  inflating: classification/test/3 scale/cropped_leaf.2145.png  \n",
            "  inflating: classification/test/3 scale/cropped_leaf.216.png  \n",
            "  inflating: classification/test/3 scale/cropped_leaf.217.png  \n",
            "  inflating: classification/test/3 scale/cropped_leaf.218.png  \n",
            "  inflating: classification/test/3 scale/cropped_leaf.2225.png  \n",
            "  inflating: classification/test/3 scale/cropped_leaf.223.png  \n",
            "  inflating: classification/test/3 scale/cropped_leaf.224.png  \n",
            "  inflating: classification/test/3 scale/cropped_leaf.2335.png  \n",
            "  inflating: classification/test/3 scale/cropped_leaf.25.png  \n",
            "  inflating: classification/test/3 scale/cropped_leaf.26.png  \n",
            "  inflating: classification/test/3 scale/cropped_leaf.27.png  \n",
            "  inflating: classification/test/3 scale/cropped_leaf.39.png  \n",
            "  inflating: classification/test/3 scale/cropped_leaf.40.png  \n",
            "  inflating: classification/test/3 scale/cropped_leaf.41.png  \n",
            "  inflating: classification/test/3 scale/cropped_leaf.42.png  \n",
            "  inflating: classification/test/3 scale/cropped_leaf.43.png  \n",
            "  inflating: classification/test/3 scale/cropped_leaf.46.png  \n",
            "  inflating: classification/test/3 scale/cropped_leaf.48.png  \n",
            "  inflating: classification/test/3 scale/cropped_leaf.51.png  \n",
            "  inflating: classification/test/3 scale/cropped_leaf.52.png  \n",
            "  inflating: classification/test/3 scale/cropped_leaf.53.png  \n",
            "  inflating: classification/test/3 scale/cropped_leaf.63.png  \n",
            "  inflating: classification/test/3 scale/cropped_leaf.72.png  \n",
            "  inflating: classification/test/3 scale/cropped_leaf.73.png  \n",
            "  inflating: classification/test/3 scale/cropped_leaf.75.png  \n",
            "  inflating: classification/test/3 scale/cropped_leaf.76.png  \n",
            "  inflating: classification/test/3 scale/cropped_leaf.762.png  \n",
            "  inflating: classification/test/3 scale/cropped_leaf.79.png  \n",
            "  inflating: classification/test/3 scale/cropped_leaf.812.png  \n",
            "  inflating: classification/test/3 scale/cropped_leaf.83.png  \n",
            "  inflating: classification/test/3 scale/cropped_leaf.875.png  \n",
            "  inflating: classification/test/3 scale/cropped_leaf.880.png  \n",
            "  inflating: classification/test/3 scale/cropped_leaf.9012.png  \n",
            "  inflating: classification/test/3 scale/cropped_leaf.93.png  \n",
            "  inflating: classification/test/3 scale/cropped_leaf.982.png  \n",
            "   creating: classification/test/4 scale/\n",
            "  inflating: classification/test/4 scale/cropped_leaf.134.png  \n",
            "  inflating: classification/test/4 scale/cropped_leaf.136.png  \n",
            "  inflating: classification/test/4 scale/cropped_leaf.140.png  \n",
            "  inflating: classification/test/4 scale/cropped_leaf.141.png  \n",
            "  inflating: classification/test/4 scale/cropped_leaf.149.png  \n",
            "  inflating: classification/test/4 scale/cropped_leaf.158.png  \n",
            "  inflating: classification/test/4 scale/cropped_leaf.159.png  \n",
            "  inflating: classification/test/4 scale/cropped_leaf.160.png  \n",
            "  inflating: classification/test/4 scale/cropped_leaf.167.png  \n",
            "  inflating: classification/test/4 scale/cropped_leaf.180.png  \n",
            "  inflating: classification/test/4 scale/cropped_leaf.184.png  \n",
            "  inflating: classification/test/4 scale/cropped_leaf.189.png  \n",
            "  inflating: classification/test/4 scale/cropped_leaf.190.png  \n",
            "  inflating: classification/test/4 scale/cropped_leaf.193.png  \n",
            "  inflating: classification/test/4 scale/cropped_leaf.194.png  \n",
            "  inflating: classification/test/4 scale/cropped_leaf.195.png  \n",
            "  inflating: classification/test/4 scale/cropped_leaf.199.png  \n",
            "  inflating: classification/test/4 scale/cropped_leaf.219.png  \n",
            "  inflating: classification/test/4 scale/cropped_leaf.221.png  \n",
            "  inflating: classification/test/4 scale/cropped_leaf.224.png  \n",
            "  inflating: classification/test/4 scale/cropped_leaf.229.png  \n",
            "  inflating: classification/test/4 scale/cropped_leaf.232.png  \n",
            "  inflating: classification/test/4 scale/cropped_leaf.24.png  \n",
            "  inflating: classification/test/4 scale/cropped_leaf.28.png  \n",
            "  inflating: classification/test/4 scale/cropped_leaf.29.png  \n",
            "  inflating: classification/test/4 scale/cropped_leaf.30.png  \n",
            "  inflating: classification/test/4 scale/cropped_leaf.32.png  \n",
            "  inflating: classification/test/4 scale/cropped_leaf.44.png  \n",
            "  inflating: classification/test/4 scale/cropped_leaf.45.png  \n",
            "  inflating: classification/test/4 scale/cropped_leaf.451.png  \n",
            "  inflating: classification/test/4 scale/cropped_leaf.47.png  \n",
            "  inflating: classification/test/4 scale/cropped_leaf.556.png  \n",
            "  inflating: classification/test/4 scale/cropped_leaf.888.png  \n",
            "   creating: classification/train/\n",
            "   creating: classification/train/0 scale/\n",
            "  inflating: classification/train/0 scale/cropped_leaf.0.png  \n",
            "  inflating: classification/train/0 scale/cropped_leaf.1.png  \n",
            "  inflating: classification/train/0 scale/cropped_leaf.10.png  \n",
            "  inflating: classification/train/0 scale/cropped_leaf.11.png  \n",
            "  inflating: classification/train/0 scale/cropped_leaf.115.png  \n",
            "  inflating: classification/train/0 scale/cropped_leaf.118.png  \n",
            "  inflating: classification/train/0 scale/cropped_leaf.119.png  \n",
            "  inflating: classification/train/0 scale/cropped_leaf.12.png  \n",
            "  inflating: classification/train/0 scale/cropped_leaf.121.png  \n",
            "  inflating: classification/train/0 scale/cropped_leaf.14.png  \n",
            "  inflating: classification/train/0 scale/cropped_leaf.142.png  \n",
            "  inflating: classification/train/0 scale/cropped_leaf.152.png  \n",
            "  inflating: classification/train/0 scale/cropped_leaf.16.png  \n",
            "  inflating: classification/train/0 scale/cropped_leaf.17.png  \n",
            "  inflating: classification/train/0 scale/cropped_leaf.172.png  \n",
            "  inflating: classification/train/0 scale/cropped_leaf.1789.png  \n",
            "  inflating: classification/train/0 scale/cropped_leaf.179.png  \n",
            "  inflating: classification/train/0 scale/cropped_leaf.18.png  \n",
            "  inflating: classification/train/0 scale/cropped_leaf.186.png  \n",
            "  inflating: classification/train/0 scale/cropped_leaf.187.png  \n",
            "  inflating: classification/train/0 scale/cropped_leaf.19.png  \n",
            "  inflating: classification/train/0 scale/cropped_leaf.196.png  \n",
            "  inflating: classification/train/0 scale/cropped_leaf.2.png  \n",
            "  inflating: classification/train/0 scale/cropped_leaf.20.png  \n",
            "  inflating: classification/train/0 scale/cropped_leaf.204.png  \n",
            "  inflating: classification/train/0 scale/cropped_leaf.22.png  \n",
            "  inflating: classification/train/0 scale/cropped_leaf.24.png  \n",
            "  inflating: classification/train/0 scale/cropped_leaf.29.png  \n",
            "  inflating: classification/train/0 scale/cropped_leaf.3.png  \n",
            "  inflating: classification/train/0 scale/cropped_leaf.30.png  \n",
            "  inflating: classification/train/0 scale/cropped_leaf.34.png  \n",
            "  inflating: classification/train/0 scale/cropped_leaf.36.png  \n",
            "  inflating: classification/train/0 scale/cropped_leaf.4.png  \n",
            "  inflating: classification/train/0 scale/cropped_leaf.5.png  \n",
            "  inflating: classification/train/0 scale/cropped_leaf.57.png  \n",
            "  inflating: classification/train/0 scale/cropped_leaf.58.png  \n",
            "  inflating: classification/train/0 scale/cropped_leaf.6.png  \n",
            "  inflating: classification/train/0 scale/cropped_leaf.61.png  \n",
            "  inflating: classification/train/0 scale/cropped_leaf.62.png  \n",
            "  inflating: classification/train/0 scale/cropped_leaf.7.png  \n",
            "  inflating: classification/train/0 scale/cropped_leaf.77.png  \n",
            "  inflating: classification/train/0 scale/cropped_leaf.8.png  \n",
            "  inflating: classification/train/0 scale/cropped_leaf.84.png  \n",
            "  inflating: classification/train/0 scale/cropped_leaf.85.png  \n",
            "  inflating: classification/train/0 scale/cropped_leaf.89.png  \n",
            "  inflating: classification/train/0 scale/cropped_leaf.9.png  \n",
            "  inflating: classification/train/0 scale/cropped_leaf.95.png  \n",
            "  inflating: classification/train/0 scale/cropped_leaf.96.png  \n",
            "   creating: classification/train/1 scale/\n",
            "  inflating: classification/train/1 scale/cropped_leaf.0.png  \n",
            "  inflating: classification/train/1 scale/cropped_leaf.10.png  \n",
            "  inflating: classification/train/1 scale/cropped_leaf.100.png  \n",
            "  inflating: classification/train/1 scale/cropped_leaf.101.png  \n",
            "  inflating: classification/train/1 scale/cropped_leaf.102.png  \n",
            "  inflating: classification/train/1 scale/cropped_leaf.103.png  \n",
            "  inflating: classification/train/1 scale/cropped_leaf.104.png  \n",
            "  inflating: classification/train/1 scale/cropped_leaf.106.png  \n",
            "  inflating: classification/train/1 scale/cropped_leaf.12.png  \n",
            "  inflating: classification/train/1 scale/cropped_leaf.13.png  \n",
            "  inflating: classification/train/1 scale/cropped_leaf.15.png  \n",
            "  inflating: classification/train/1 scale/cropped_leaf.165.png  \n",
            "  inflating: classification/train/1 scale/cropped_leaf.171.png  \n",
            "  inflating: classification/train/1 scale/cropped_leaf.18.png  \n",
            "  inflating: classification/train/1 scale/cropped_leaf.180.png  \n",
            "  inflating: classification/train/1 scale/cropped_leaf.181.png  \n",
            "  inflating: classification/train/1 scale/cropped_leaf.182.png  \n",
            "  inflating: classification/train/1 scale/cropped_leaf.183.png  \n",
            "  inflating: classification/train/1 scale/cropped_leaf.187.png  \n",
            "  inflating: classification/train/1 scale/cropped_leaf.194.png  \n",
            "  inflating: classification/train/1 scale/cropped_leaf.197.png  \n",
            "  inflating: classification/train/1 scale/cropped_leaf.200.png  \n",
            "  inflating: classification/train/1 scale/cropped_leaf.21.png  \n",
            "  inflating: classification/train/1 scale/cropped_leaf.23.png  \n",
            "  inflating: classification/train/1 scale/cropped_leaf.25.png  \n",
            "  inflating: classification/train/1 scale/cropped_leaf.26.png  \n",
            "  inflating: classification/train/1 scale/cropped_leaf.27.png  \n",
            "  inflating: classification/train/1 scale/cropped_leaf.28.png  \n",
            "  inflating: classification/train/1 scale/cropped_leaf.294.png  \n",
            "  inflating: classification/train/1 scale/cropped_leaf.31.png  \n",
            "  inflating: classification/train/1 scale/cropped_leaf.32.png  \n",
            "  inflating: classification/train/1 scale/cropped_leaf.33.png  \n",
            "  inflating: classification/train/1 scale/cropped_leaf.343.png  \n",
            "  inflating: classification/train/1 scale/cropped_leaf.39.png  \n",
            "  inflating: classification/train/1 scale/cropped_leaf.4.png  \n",
            "  inflating: classification/train/1 scale/cropped_leaf.40.png  \n",
            "  inflating: classification/train/1 scale/cropped_leaf.41.png  \n",
            "  inflating: classification/train/1 scale/cropped_leaf.42.png  \n",
            "  inflating: classification/train/1 scale/cropped_leaf.420.png  \n",
            "  inflating: classification/train/1 scale/cropped_leaf.43.png  \n",
            "  inflating: classification/train/1 scale/cropped_leaf.44.png  \n",
            "  inflating: classification/train/1 scale/cropped_leaf.45.png  \n",
            "  inflating: classification/train/1 scale/cropped_leaf.46.png  \n",
            "  inflating: classification/train/1 scale/cropped_leaf.47.png  \n",
            "  inflating: classification/train/1 scale/cropped_leaf.48.png  \n",
            "  inflating: classification/train/1 scale/cropped_leaf.49.png  \n",
            "  inflating: classification/train/1 scale/cropped_leaf.5.png  \n",
            "  inflating: classification/train/1 scale/cropped_leaf.50.png  \n",
            "  inflating: classification/train/1 scale/cropped_leaf.503.png  \n",
            "  inflating: classification/train/1 scale/cropped_leaf.51.png  \n",
            "  inflating: classification/train/1 scale/cropped_leaf.52.png  \n",
            "  inflating: classification/train/1 scale/cropped_leaf.53.png  \n",
            "  inflating: classification/train/1 scale/cropped_leaf.54.png  \n",
            "  inflating: classification/train/1 scale/cropped_leaf.55.png  \n",
            "  inflating: classification/train/1 scale/cropped_leaf.56.png  \n",
            "  inflating: classification/train/1 scale/cropped_leaf.59.png  \n",
            "  inflating: classification/train/1 scale/cropped_leaf.60.png  \n",
            "  inflating: classification/train/1 scale/cropped_leaf.602.png  \n",
            "  inflating: classification/train/1 scale/cropped_leaf.6023.png  \n",
            "  inflating: classification/train/1 scale/cropped_leaf.62.png  \n",
            "  inflating: classification/train/1 scale/cropped_leaf.63.png  \n",
            "  inflating: classification/train/1 scale/cropped_leaf.64.png  \n",
            "  inflating: classification/train/1 scale/cropped_leaf.65.png  \n",
            "  inflating: classification/train/1 scale/cropped_leaf.652.png  \n",
            "  inflating: classification/train/1 scale/cropped_leaf.66.png  \n",
            "  inflating: classification/train/1 scale/cropped_leaf.662.png  \n",
            "  inflating: classification/train/1 scale/cropped_leaf.67.png  \n",
            "  inflating: classification/train/1 scale/cropped_leaf.68.png  \n",
            "  inflating: classification/train/1 scale/cropped_leaf.69.png  \n",
            "  inflating: classification/train/1 scale/cropped_leaf.70.png  \n",
            "  inflating: classification/train/1 scale/cropped_leaf.71.png  \n",
            "  inflating: classification/train/1 scale/cropped_leaf.712.png  \n",
            "  inflating: classification/train/1 scale/cropped_leaf.713.png  \n",
            "  inflating: classification/train/1 scale/cropped_leaf.72.png  \n",
            "  inflating: classification/train/1 scale/cropped_leaf.722.png  \n",
            "  inflating: classification/train/1 scale/cropped_leaf.73.png  \n",
            "  inflating: classification/train/1 scale/cropped_leaf.74.png  \n",
            "  inflating: classification/train/1 scale/cropped_leaf.75.png  \n",
            "  inflating: classification/train/1 scale/cropped_leaf.76.png  \n",
            "  inflating: classification/train/1 scale/cropped_leaf.77.png  \n",
            "  inflating: classification/train/1 scale/cropped_leaf.772.png  \n",
            "  inflating: classification/train/1 scale/cropped_leaf.78.png  \n",
            "  inflating: classification/train/1 scale/cropped_leaf.783.png  \n",
            "  inflating: classification/train/1 scale/cropped_leaf.79.png  \n",
            "  inflating: classification/train/1 scale/cropped_leaf.8.png  \n",
            "  inflating: classification/train/1 scale/cropped_leaf.80.png  \n",
            "  inflating: classification/train/1 scale/cropped_leaf.81.png  \n",
            "  inflating: classification/train/1 scale/cropped_leaf.82.png  \n",
            "  inflating: classification/train/1 scale/cropped_leaf.83.png  \n",
            "  inflating: classification/train/1 scale/cropped_leaf.842.png  \n",
            "  inflating: classification/train/1 scale/cropped_leaf.86.png  \n",
            "  inflating: classification/train/1 scale/cropped_leaf.87.png  \n",
            "  inflating: classification/train/1 scale/cropped_leaf.872.png  \n",
            "  inflating: classification/train/1 scale/cropped_leaf.88.png  \n",
            "  inflating: classification/train/1 scale/cropped_leaf.89.png  \n",
            "  inflating: classification/train/1 scale/cropped_leaf.892.png  \n",
            "  inflating: classification/train/1 scale/cropped_leaf.9.png  \n",
            "  inflating: classification/train/1 scale/cropped_leaf.91.png  \n",
            "  inflating: classification/train/1 scale/cropped_leaf.92.png  \n",
            "  inflating: classification/train/1 scale/cropped_leaf.93.png  \n",
            "  inflating: classification/train/1 scale/cropped_leaf.94.png  \n",
            "  inflating: classification/train/1 scale/cropped_leaf.942.png  \n",
            "  inflating: classification/train/1 scale/cropped_leaf.97.png  \n",
            "  inflating: classification/train/1 scale/cropped_leaf.99.png  \n",
            "   creating: classification/train/2 scale/\n",
            "  inflating: classification/train/2 scale/cropped_leaf.0.png  \n",
            "  inflating: classification/train/2 scale/cropped_leaf.1000.png  \n",
            "  inflating: classification/train/2 scale/cropped_leaf.103.png  \n",
            "  inflating: classification/train/2 scale/cropped_leaf.105.png  \n",
            "  inflating: classification/train/2 scale/cropped_leaf.107.png  \n",
            "  inflating: classification/train/2 scale/cropped_leaf.11.png  \n",
            "  inflating: classification/train/2 scale/cropped_leaf.113.png  \n",
            "  inflating: classification/train/2 scale/cropped_leaf.116.png  \n",
            "  inflating: classification/train/2 scale/cropped_leaf.12.png  \n",
            "  inflating: classification/train/2 scale/cropped_leaf.120.png  \n",
            "  inflating: classification/train/2 scale/cropped_leaf.124.png  \n",
            "  inflating: classification/train/2 scale/cropped_leaf.126.png  \n",
            "  inflating: classification/train/2 scale/cropped_leaf.13.png  \n",
            "  inflating: classification/train/2 scale/cropped_leaf.130.png  \n",
            "  inflating: classification/train/2 scale/cropped_leaf.132.png  \n",
            "  inflating: classification/train/2 scale/cropped_leaf.1334.png  \n",
            "  inflating: classification/train/2 scale/cropped_leaf.135.png  \n",
            "  inflating: classification/train/2 scale/cropped_leaf.137.png  \n",
            "  inflating: classification/train/2 scale/cropped_leaf.14.png  \n",
            "  inflating: classification/train/2 scale/cropped_leaf.142.png  \n",
            "  inflating: classification/train/2 scale/cropped_leaf.144.png  \n",
            "  inflating: classification/train/2 scale/cropped_leaf.1445.png  \n",
            "  inflating: classification/train/2 scale/cropped_leaf.145.png  \n",
            "  inflating: classification/train/2 scale/cropped_leaf.146.png  \n",
            "  inflating: classification/train/2 scale/cropped_leaf.148.png  \n",
            "  inflating: classification/train/2 scale/cropped_leaf.15.png  \n",
            "  inflating: classification/train/2 scale/cropped_leaf.1554.png  \n",
            "  inflating: classification/train/2 scale/cropped_leaf.156.png  \n",
            "  inflating: classification/train/2 scale/cropped_leaf.16.png  \n",
            "  inflating: classification/train/2 scale/cropped_leaf.161.png  \n",
            "  inflating: classification/train/2 scale/cropped_leaf.163.png  \n",
            "  inflating: classification/train/2 scale/cropped_leaf.164.png  \n",
            "  inflating: classification/train/2 scale/cropped_leaf.166.png  \n",
            "  inflating: classification/train/2 scale/cropped_leaf.1666.png  \n",
            "  inflating: classification/train/2 scale/cropped_leaf.167.png  \n",
            "  inflating: classification/train/2 scale/cropped_leaf.169.png  \n",
            "  inflating: classification/train/2 scale/cropped_leaf.171.png  \n",
            "  inflating: classification/train/2 scale/cropped_leaf.172.png  \n",
            "  inflating: classification/train/2 scale/cropped_leaf.173.png  \n",
            "  inflating: classification/train/2 scale/cropped_leaf.176.png  \n",
            "  inflating: classification/train/2 scale/cropped_leaf.1777.png  \n",
            "  inflating: classification/train/2 scale/cropped_leaf.1778.png  \n",
            "  inflating: classification/train/2 scale/cropped_leaf.180.png  \n",
            "  inflating: classification/train/2 scale/cropped_leaf.183.png  \n",
            "  inflating: classification/train/2 scale/cropped_leaf.185.png  \n",
            "  inflating: classification/train/2 scale/cropped_leaf.19.png  \n",
            "  inflating: classification/train/2 scale/cropped_leaf.192.png  \n",
            "  inflating: classification/train/2 scale/cropped_leaf.2.png  \n",
            "  inflating: classification/train/2 scale/cropped_leaf.20.png  \n",
            "  inflating: classification/train/2 scale/cropped_leaf.202.png  \n",
            "  inflating: classification/train/2 scale/cropped_leaf.21.png  \n",
            "  inflating: classification/train/2 scale/cropped_leaf.212.png  \n",
            "  inflating: classification/train/2 scale/cropped_leaf.2156.png  \n",
            "  inflating: classification/train/2 scale/cropped_leaf.23.png  \n",
            "  inflating: classification/train/2 scale/cropped_leaf.232.png  \n",
            "  inflating: classification/train/2 scale/cropped_leaf.24.png  \n",
            "  inflating: classification/train/2 scale/cropped_leaf.242.png  \n",
            "  inflating: classification/train/2 scale/cropped_leaf.25.png  \n",
            "  inflating: classification/train/2 scale/cropped_leaf.252.png  \n",
            "  inflating: classification/train/2 scale/cropped_leaf.26.png  \n",
            "  inflating: classification/train/2 scale/cropped_leaf.27.png  \n",
            "  inflating: classification/train/2 scale/cropped_leaf.276.png  \n",
            "  inflating: classification/train/2 scale/cropped_leaf.28.png  \n",
            "  inflating: classification/train/2 scale/cropped_leaf.282.png  \n",
            "  inflating: classification/train/2 scale/cropped_leaf.29.png  \n",
            "  inflating: classification/train/2 scale/cropped_leaf.292.png  \n",
            "  inflating: classification/train/2 scale/cropped_leaf.299.png  \n",
            "  inflating: classification/train/2 scale/cropped_leaf.30.png  \n",
            "  inflating: classification/train/2 scale/cropped_leaf.31.png  \n",
            "  inflating: classification/train/2 scale/cropped_leaf.312.png  \n",
            "  inflating: classification/train/2 scale/cropped_leaf.32.png  \n",
            "  inflating: classification/train/2 scale/cropped_leaf.336.png  \n",
            "  inflating: classification/train/2 scale/cropped_leaf.34.png  \n",
            "  inflating: classification/train/2 scale/cropped_leaf.3555.png  \n",
            "  inflating: classification/train/2 scale/cropped_leaf.36.png  \n",
            "  inflating: classification/train/2 scale/cropped_leaf.37.png  \n",
            "  inflating: classification/train/2 scale/cropped_leaf.373.png  \n",
            "  inflating: classification/train/2 scale/cropped_leaf.38.png  \n",
            "  inflating: classification/train/2 scale/cropped_leaf.382.png  \n",
            "  inflating: classification/train/2 scale/cropped_leaf.3836.png  \n",
            "  inflating: classification/train/2 scale/cropped_leaf.392.png  \n",
            "  inflating: classification/train/2 scale/cropped_leaf.4.png  \n",
            "  inflating: classification/train/2 scale/cropped_leaf.40.png  \n",
            "  inflating: classification/train/2 scale/cropped_leaf.41.png  \n",
            "  inflating: classification/train/2 scale/cropped_leaf.42.png  \n",
            "  inflating: classification/train/2 scale/cropped_leaf.421.png  \n",
            "  inflating: classification/train/2 scale/cropped_leaf.43.png  \n",
            "  inflating: classification/train/2 scale/cropped_leaf.46.png  \n",
            "  inflating: classification/train/2 scale/cropped_leaf.47.png  \n",
            "  inflating: classification/train/2 scale/cropped_leaf.48.png  \n",
            "  inflating: classification/train/2 scale/cropped_leaf.49.png  \n",
            "  inflating: classification/train/2 scale/cropped_leaf.5.png  \n",
            "  inflating: classification/train/2 scale/cropped_leaf.50.png  \n",
            "  inflating: classification/train/2 scale/cropped_leaf.51.png  \n",
            "  inflating: classification/train/2 scale/cropped_leaf.512.png  \n",
            "  inflating: classification/train/2 scale/cropped_leaf.52.png  \n",
            "  inflating: classification/train/2 scale/cropped_leaf.520.png  \n",
            "  inflating: classification/train/2 scale/cropped_leaf.53.png  \n",
            "  inflating: classification/train/2 scale/cropped_leaf.56.png  \n",
            "  inflating: classification/train/2 scale/cropped_leaf.58.png  \n",
            "  inflating: classification/train/2 scale/cropped_leaf.585.png  \n",
            "  inflating: classification/train/2 scale/cropped_leaf.59.png  \n",
            "  inflating: classification/train/2 scale/cropped_leaf.6.png  \n",
            "  inflating: classification/train/2 scale/cropped_leaf.61.png  \n",
            "  inflating: classification/train/2 scale/cropped_leaf.666.png  \n",
            "  inflating: classification/train/2 scale/cropped_leaf.667.png  \n",
            "  inflating: classification/train/2 scale/cropped_leaf.715.png  \n",
            "  inflating: classification/train/2 scale/cropped_leaf.716.png  \n",
            "  inflating: classification/train/2 scale/cropped_leaf.718.png  \n",
            "  inflating: classification/train/2 scale/cropped_leaf.719.png  \n",
            "  inflating: classification/train/2 scale/cropped_leaf.725.png  \n",
            "  inflating: classification/train/2 scale/cropped_leaf.752.png  \n",
            "  inflating: classification/train/2 scale/cropped_leaf.801.png  \n",
            "  inflating: classification/train/2 scale/cropped_leaf.812.png  \n",
            "  inflating: classification/train/2 scale/cropped_leaf.83.png  \n",
            "  inflating: classification/train/2 scale/cropped_leaf.861.png  \n",
            "  inflating: classification/train/2 scale/cropped_leaf.9.png  \n",
            "  inflating: classification/train/2 scale/cropped_leaf.90.png  \n",
            "  inflating: classification/train/2 scale/cropped_leaf.930.png  \n",
            "  inflating: classification/train/2 scale/cropped_leaf.95.png  \n",
            "  inflating: classification/train/2 scale/cropped_leaf.972.png  \n",
            "  inflating: classification/train/2 scale/cropped_leaf.991.png  \n",
            "   creating: classification/train/3 scale/\n",
            "  inflating: classification/train/3 scale/cropped_leaf.0.png  \n",
            "  inflating: classification/train/3 scale/cropped_leaf.1.png  \n",
            "  inflating: classification/train/3 scale/cropped_leaf.10.png  \n",
            "  inflating: classification/train/3 scale/cropped_leaf.100.png  \n",
            "  inflating: classification/train/3 scale/cropped_leaf.104.png  \n",
            "  inflating: classification/train/3 scale/cropped_leaf.1060.png  \n",
            "  inflating: classification/train/3 scale/cropped_leaf.109.png  \n",
            "  inflating: classification/train/3 scale/cropped_leaf.1090.png  \n",
            "  inflating: classification/train/3 scale/cropped_leaf.11.png  \n",
            "  inflating: classification/train/3 scale/cropped_leaf.111.png  \n",
            "  inflating: classification/train/3 scale/cropped_leaf.1112.png  \n",
            "  inflating: classification/train/3 scale/cropped_leaf.11123.png  \n",
            "  inflating: classification/train/3 scale/cropped_leaf.1123.png  \n",
            "  inflating: classification/train/3 scale/cropped_leaf.12.png  \n",
            "  inflating: classification/train/3 scale/cropped_leaf.122.png  \n",
            "  inflating: classification/train/3 scale/cropped_leaf.123.png  \n",
            "  inflating: classification/train/3 scale/cropped_leaf.1235.png  \n",
            "  inflating: classification/train/3 scale/cropped_leaf.125.png  \n",
            "  inflating: classification/train/3 scale/cropped_leaf.127.png  \n",
            "  inflating: classification/train/3 scale/cropped_leaf.13.png  \n",
            "  inflating: classification/train/3 scale/cropped_leaf.134.png  \n",
            "  inflating: classification/train/3 scale/cropped_leaf.138.png  \n",
            "  inflating: classification/train/3 scale/cropped_leaf.14.png  \n",
            "  inflating: classification/train/3 scale/cropped_leaf.141.png  \n",
            "  inflating: classification/train/3 scale/cropped_leaf.147.png  \n",
            "  inflating: classification/train/3 scale/cropped_leaf.1475.png  \n",
            "  inflating: classification/train/3 scale/cropped_leaf.15.png  \n",
            "  inflating: classification/train/3 scale/cropped_leaf.151.png  \n",
            "  inflating: classification/train/3 scale/cropped_leaf.161.png  \n",
            "  inflating: classification/train/3 scale/cropped_leaf.167.png  \n",
            "  inflating: classification/train/3 scale/cropped_leaf.170.png  \n",
            "  inflating: classification/train/3 scale/cropped_leaf.175.png  \n",
            "  inflating: classification/train/3 scale/cropped_leaf.177.png  \n",
            "  inflating: classification/train/3 scale/cropped_leaf.18.png  \n",
            "  inflating: classification/train/3 scale/cropped_leaf.181.png  \n",
            "  inflating: classification/train/3 scale/cropped_leaf.1888.png  \n",
            "  inflating: classification/train/3 scale/cropped_leaf.190.png  \n",
            "  inflating: classification/train/3 scale/cropped_leaf.193.png  \n",
            "  inflating: classification/train/3 scale/cropped_leaf.1985.png  \n",
            "  inflating: classification/train/3 scale/cropped_leaf.199.png  \n",
            "  inflating: classification/train/3 scale/cropped_leaf.2.png  \n",
            "  inflating: classification/train/3 scale/cropped_leaf.2000.png  \n",
            "  inflating: classification/train/3 scale/cropped_leaf.201.png  \n",
            "  inflating: classification/train/3 scale/cropped_leaf.2020.png  \n",
            "  inflating: classification/train/3 scale/cropped_leaf.212.png  \n",
            "  inflating: classification/train/3 scale/cropped_leaf.2125.png  \n",
            "  inflating: classification/train/3 scale/cropped_leaf.22.png  \n",
            "  inflating: classification/train/3 scale/cropped_leaf.2225.png  \n",
            "  inflating: classification/train/3 scale/cropped_leaf.226.png  \n",
            "  inflating: classification/train/3 scale/cropped_leaf.23.png  \n",
            "  inflating: classification/train/3 scale/cropped_leaf.2335.png  \n",
            "  inflating: classification/train/3 scale/cropped_leaf.24.png  \n",
            "  inflating: classification/train/3 scale/cropped_leaf.251.png  \n",
            "  inflating: classification/train/3 scale/cropped_leaf.26.png  \n",
            "  inflating: classification/train/3 scale/cropped_leaf.272.png  \n",
            "  inflating: classification/train/3 scale/cropped_leaf.28.png  \n",
            "  inflating: classification/train/3 scale/cropped_leaf.3.png  \n",
            "  inflating: classification/train/3 scale/cropped_leaf.30.png  \n",
            "  inflating: classification/train/3 scale/cropped_leaf.31.png  \n",
            "  inflating: classification/train/3 scale/cropped_leaf.32.png  \n",
            "  inflating: classification/train/3 scale/cropped_leaf.323.png  \n",
            "  inflating: classification/train/3 scale/cropped_leaf.333.png  \n",
            "  inflating: classification/train/3 scale/cropped_leaf.34.png  \n",
            "  inflating: classification/train/3 scale/cropped_leaf.35.png  \n",
            "  inflating: classification/train/3 scale/cropped_leaf.358.png  \n",
            "  inflating: classification/train/3 scale/cropped_leaf.36.png  \n",
            "  inflating: classification/train/3 scale/cropped_leaf.37.png  \n",
            "  inflating: classification/train/3 scale/cropped_leaf.38.png  \n",
            "  inflating: classification/train/3 scale/cropped_leaf.39.png  \n",
            "  inflating: classification/train/3 scale/cropped_leaf.401.png  \n",
            "  inflating: classification/train/3 scale/cropped_leaf.44.png  \n",
            "  inflating: classification/train/3 scale/cropped_leaf.441.png  \n",
            "  inflating: classification/train/3 scale/cropped_leaf.45.png  \n",
            "  inflating: classification/train/3 scale/cropped_leaf.521.png  \n",
            "  inflating: classification/train/3 scale/cropped_leaf.54.png  \n",
            "  inflating: classification/train/3 scale/cropped_leaf.57.png  \n",
            "  inflating: classification/train/3 scale/cropped_leaf.62.png  \n",
            "  inflating: classification/train/3 scale/cropped_leaf.631.png  \n",
            "  inflating: classification/train/3 scale/cropped_leaf.712.png  \n",
            "  inflating: classification/train/3 scale/cropped_leaf.762.png  \n",
            "  inflating: classification/train/3 scale/cropped_leaf.8.png  \n",
            "  inflating: classification/train/3 scale/cropped_leaf.812.png  \n",
            "  inflating: classification/train/3 scale/cropped_leaf.82.png  \n",
            "  inflating: classification/train/3 scale/cropped_leaf.875.png  \n",
            "  inflating: classification/train/3 scale/cropped_leaf.880.png  \n",
            "  inflating: classification/train/3 scale/cropped_leaf.9012.png  \n",
            "  inflating: classification/train/3 scale/cropped_leaf.92.png  \n",
            "  inflating: classification/train/3 scale/cropped_leaf.96.png  \n",
            "  inflating: classification/train/3 scale/cropped_leaf.98.png  \n",
            "  inflating: classification/train/3 scale/cropped_leaf.982.png  \n",
            "   creating: classification/train/4 scale/\n",
            "  inflating: classification/train/4 scale/cropped_leaf.1.png  \n",
            "  inflating: classification/train/4 scale/cropped_leaf.101.png  \n",
            "  inflating: classification/train/4 scale/cropped_leaf.102.png  \n",
            "  inflating: classification/train/4 scale/cropped_leaf.106.png  \n",
            "  inflating: classification/train/4 scale/cropped_leaf.108.png  \n",
            "  inflating: classification/train/4 scale/cropped_leaf.114.png  \n",
            "  inflating: classification/train/4 scale/cropped_leaf.118.png  \n",
            "  inflating: classification/train/4 scale/cropped_leaf.127.png  \n",
            "  inflating: classification/train/4 scale/cropped_leaf.128.png  \n",
            "  inflating: classification/train/4 scale/cropped_leaf.131.png  \n",
            "  inflating: classification/train/4 scale/cropped_leaf.133.png  \n",
            "  inflating: classification/train/4 scale/cropped_leaf.134.png  \n",
            "  inflating: classification/train/4 scale/cropped_leaf.136.png  \n",
            "  inflating: classification/train/4 scale/cropped_leaf.140.png  \n",
            "  inflating: classification/train/4 scale/cropped_leaf.141.png  \n",
            "  inflating: classification/train/4 scale/cropped_leaf.149.png  \n",
            "  inflating: classification/train/4 scale/cropped_leaf.158.png  \n",
            "  inflating: classification/train/4 scale/cropped_leaf.159.png  \n",
            "  inflating: classification/train/4 scale/cropped_leaf.16.png  \n",
            "  inflating: classification/train/4 scale/cropped_leaf.160.png  \n",
            "  inflating: classification/train/4 scale/cropped_leaf.167.png  \n",
            "  inflating: classification/train/4 scale/cropped_leaf.180.png  \n",
            "  inflating: classification/train/4 scale/cropped_leaf.184.png  \n",
            "  inflating: classification/train/4 scale/cropped_leaf.189.png  \n",
            "  inflating: classification/train/4 scale/cropped_leaf.30.png  \n",
            "  inflating: classification/train/4 scale/cropped_leaf.4.png  \n",
            "  inflating: classification/train/4 scale/cropped_leaf.42.png  \n",
            "  inflating: classification/train/4 scale/cropped_leaf.451.png  \n",
            "  inflating: classification/train/4 scale/cropped_leaf.46.png  \n",
            "  inflating: classification/train/4 scale/cropped_leaf.48.png  \n",
            "  inflating: classification/train/4 scale/cropped_leaf.5.png  \n",
            "  inflating: classification/train/4 scale/cropped_leaf.51.png  \n",
            "  inflating: classification/train/4 scale/cropped_leaf.53.png  \n",
            "  inflating: classification/train/4 scale/cropped_leaf.54.png  \n",
            "  inflating: classification/train/4 scale/cropped_leaf.556.png  \n",
            "  inflating: classification/train/4 scale/cropped_leaf.59.png  \n",
            "  inflating: classification/train/4 scale/cropped_leaf.7.png  \n",
            "  inflating: classification/train/4 scale/cropped_leaf.81.png  \n",
            "  inflating: classification/train/4 scale/cropped_leaf.888.png  \n",
            "  inflating: classification/train/4 scale/cropped_leaf.9.png  \n",
            "  inflating: classification/train/4 scale/cropped_leaf.91.png  \n",
            "  inflating: classification/train/4 scale/cropped_leaf.92.png  \n",
            "  inflating: classification/train/4 scale/cropped_leaf.99.png  \n"
          ],
          "name": "stdout"
        }
      ]
    },
    {
      "cell_type": "code",
      "metadata": {
        "colab": {
          "base_uri": "https://localhost:8080/",
          "height": 35
        },
        "id": "Le7WASt6ZTLC",
        "outputId": "69fa8db2-8332-4cef-a49b-d1819ec11df3"
      },
      "source": [
        "import tensorflow as tf\n",
        "tf.test.gpu_device_name()\n"
      ],
      "execution_count": null,
      "outputs": [
        {
          "output_type": "execute_result",
          "data": {
            "application/vnd.google.colaboratory.intrinsic+json": {
              "type": "string"
            },
            "text/plain": [
              "'/device:GPU:0'"
            ]
          },
          "metadata": {
            "tags": []
          },
          "execution_count": 5
        }
      ]
    },
    {
      "cell_type": "code",
      "metadata": {
        "id": "ZWR7GhTmVn4T",
        "colab": {
          "base_uri": "https://localhost:8080/"
        },
        "outputId": "416f3ef7-57ef-48cf-bdbb-7d4e0ad0d4a3"
      },
      "source": [
        "import os\n",
        "import sys\n",
        "import random\n",
        "import warnings #\n",
        "import numpy as np\n",
        "import matplotlib.pyplot as plt\n",
        "from keras.layers.core import Dropout, Lambda\n",
        "from keras.layers.convolutional import Conv2D, Convolution2D, MaxPooling2D\n",
        "#from keras.layers.pooling import MaxPooling2D\n",
        "from keras import backend as K\n",
        "from keras.utils import to_categorical\n",
        "from keras.layers import Flatten, Activation, Dense\n",
        "#from tensorflow.python.keras import optimizers\n",
        "from keras.optimizers import SGD, Adam, Adadelta\n",
        "from keras.layers.normalization import BatchNormalization\n",
        "import tensorflow as tf\n",
        "from keras.callbacks import  ModelCheckpoint, ReduceLROnPlateau, EarlyStopping, CSVLogger\n",
        "import cv2\n",
        "import pickle\n",
        "from keras import layers\n",
        "from keras import Sequential\n",
        "\n",
        "from __future__  import absolute_import\n",
        "from __future__ import division\n",
        "from __future__ import print_function\n",
        "\n",
        "from datetime import datetime\n",
        "from packaging import version\n",
        "\n",
        "\n",
        "BATCH_SIZE = 8\n",
        "IMG_WIDTH = 256\n",
        "IMG_HEIGHT = 256\n",
        "IMG_CHANNELS = 3\n",
        "dirtrain = '/content/classification/train'\n",
        "dirtest = '/content/classification/test'\n",
        "\n",
        "categories = [\"0 scale\", \"1 scale\", \"2 scale\", \"3 scale\", \"4 scale\"]\n",
        "\n",
        "warnings.filterwarnings('ignore', category=UserWarning, module='skimage')\n",
        "seed = 42\n",
        "random.seed = seed\n",
        "np.random.seed (seed)"
      ],
      "execution_count": null,
      "outputs": [
        {
          "output_type": "stream",
          "text": [
            "Using TensorFlow backend.\n"
          ],
          "name": "stderr"
        }
      ]
    },
    {
      "cell_type": "code",
      "metadata": {
        "colab": {
          "base_uri": "https://localhost:8080/",
          "height": 286
        },
        "id": "KSniTM6mVn4c",
        "outputId": "677fd82e-1e0a-4f18-f135-b2ff17df685e"
      },
      "source": [
        "for c in categories: \n",
        "  path = os.path.join(dirtrain,c)\n",
        "  for i in os.listdir(path):\n",
        "    img_arrray = cv2.imread(os.path.join(path,i))\n",
        "    img_arrray = cv2.cvtColor(img_arrray ,cv2.COLOR_BGR2RGB)\n",
        "    print(img_arrray.shape)\n",
        "    plt.imshow(img_arrray)\n",
        "    plt.show()\n",
        "    break\n",
        "  break\n"
      ],
      "execution_count": null,
      "outputs": [
        {
          "output_type": "stream",
          "text": [
            "(681, 1024, 3)\n"
          ],
          "name": "stdout"
        },
        {
          "output_type": "display_data",
          "data": {
            "image/png": "[encoded data removed]",
            "text/plain": [
              "<Figure size 432x288 with 1 Axes>"
            ]
          },
          "metadata": {
            "tags": [],
            "needs_background": "light"
          }
        }
      ]
    },
    {
      "cell_type": "code",
      "metadata": {
        "id": "fQvTtzCZVn4i"
      },
      "source": [
        "training_data = []\n",
        "def create_training_data():\n",
        "    count=[]\n",
        "    for c in categories:\n",
        "        path=os.path.join(dirtrain,c)\n",
        "        class_num=categories.index(c)\n",
        "        c=0\n",
        "        for i in os.listdir(path):\n",
        "            c=c+1\n",
        "            try:\n",
        "                img_array=cv2.imread(os.path.join(path,i))\n",
        "                img_array = cv2.cvtColor( img_array, cv2.COLOR_BGR2RGB)\n",
        "                img_array=cv2.resize(img_array,(256,256))\n",
        "                training_data.append([img_array,class_num])\n",
        "            except Exception as e:\n",
        "                pass\n",
        "        count.append(c)\n",
        "    return count\n",
        "count_train=create_training_data()"
      ],
      "execution_count": null,
      "outputs": []
    },
    {
      "cell_type": "code",
      "metadata": {
        "id": "3fMwExfZDG2r"
      },
      "source": [
        "testing_data = []\n",
        "def create_testing_data():\n",
        "    count=[]\n",
        "    for c in categories:\n",
        "        path=os.path.join(dirtest,c)\n",
        "        class_num=categories.index(c)\n",
        "        c=0\n",
        "        for i in os.listdir(path):\n",
        "            c=c+1\n",
        "            try:\n",
        "                img_array=cv2.imread(os.path.join(path,i))\n",
        "                img_array = cv2.cvtColor( img_array, cv2.COLOR_BGR2RGB)\n",
        "                img_array=cv2.resize(img_array,(256,256))\n",
        "                testing_data.append([img_array,class_num])\n",
        "            except Exception as e:\n",
        "                pass\n",
        "        count.append(c)\n",
        "    return count\n",
        "count_test=create_testing_data()"
      ],
      "execution_count": null,
      "outputs": []
    },
    {
      "cell_type": "code",
      "metadata": {
        "colab": {
          "base_uri": "https://localhost:8080/"
        },
        "id": "My12KsI_DNta",
        "outputId": "d98c9078-b252-4e7b-d949-bb89b79f2f7d"
      },
      "source": [
        "print(len(training_data))\n",
        "print(count_train)\n",
        "print(len(testing_data))\n",
        "print(count_test)"
      ],
      "execution_count": null,
      "outputs": [
        {
          "output_type": "stream",
          "text": [
            "407\n",
            "[48, 104, 122, 90, 43]\n",
            "232\n",
            "[27, 54, 63, 55, 33]\n"
          ],
          "name": "stdout"
        }
      ]
    },
    {
      "cell_type": "code",
      "metadata": {
        "id": "xJ2oIaj2Vn4l"
      },
      "source": [
        "random.shuffle(training_data)\n",
        "random.shuffle(testing_data)"
      ],
      "execution_count": null,
      "outputs": []
    },
    {
      "cell_type": "code",
      "metadata": {
        "id": "ZMIUTml-K7MO"
      },
      "source": [
        "x_train = []\n",
        "y_train = []\n",
        "x_test = []\n",
        "y_test = []"
      ],
      "execution_count": null,
      "outputs": []
    },
    {
      "cell_type": "code",
      "metadata": {
        "id": "xKQ05AGXirg2"
      },
      "source": [
        "from keras.preprocessing.image import ImageDataGenerator"
      ],
      "execution_count": null,
      "outputs": []
    },
    {
      "cell_type": "code",
      "metadata": {
        "id": "iGBukR9u-zDN"
      },
      "source": [
        "image_gen = ImageDataGenerator(rotation_range=30, # rotate the image 30 degrees\n",
        "                               width_shift_range=0.1, # Shift the pic width by a max of 10%\n",
        "                               height_shift_range=0.1, # Shift the pic height by a max of 10%\n",
        "                               shear_range=0.1, # Shear means cutting away part of the image (max 20%)\n",
        "                               zoom_range=0.2, # Zoom in by 20% max\n",
        "                               horizontal_flip=True, # Allo horizontal flipping\n",
        "                               fill_mode='nearest' # Fill in missing pixels with the nearest filled value\n",
        "                              )"
      ],
      "execution_count": null,
      "outputs": []
    },
    {
      "cell_type": "code",
      "metadata": {
        "colab": {
          "base_uri": "https://localhost:8080/",
          "height": 286
        },
        "id": "vbi8i7FPOETs",
        "outputId": "c4619baf-80a1-4c50-e57c-2df113c6025d"
      },
      "source": [
        "x=cv2.resize(training_data[0][0],(256,256))\n",
        "plt.imshow(x,cmap='gray')"
      ],
      "execution_count": null,
      "outputs": [
        {
          "output_type": "execute_result",
          "data": {
            "text/plain": [
              "<matplotlib.image.AxesImage at 0x7f05b8b285d0>"
            ]
          },
          "metadata": {
            "tags": []
          },
          "execution_count": 15
        },
        {
          "output_type": "display_data",
          "data": {
            "image/png": "[encoded data removed]",
            "text/plain": [
              "<Figure size 432x288 with 1 Axes>"
            ]
          },
          "metadata": {
            "tags": [],
            "needs_background": "light"
          }
        }
      ]
    },
    {
      "cell_type": "code",
      "metadata": {
        "colab": {
          "base_uri": "https://localhost:8080/",
          "height": 286
        },
        "id": "gHDnnUwBi01l",
        "outputId": "83e0f413-d984-4c77-c399-3da1f477e48d"
      },
      "source": [
        "plt.imshow(image_gen.random_transform(x))"
      ],
      "execution_count": null,
      "outputs": [
        {
          "output_type": "execute_result",
          "data": {
            "text/plain": [
              "<matplotlib.image.AxesImage at 0x7f05b8b13f10>"
            ]
          },
          "metadata": {
            "tags": []
          },
          "execution_count": 16
        },
        {
          "output_type": "display_data",
          "data": {
            "image/png": "[encoded data removed]",
            "text/plain": [
              "<Figure size 432x288 with 1 Axes>"
            ]
          },
          "metadata": {
            "tags": [],
            "needs_background": "light"
          }
        }
      ]
    },
    {
      "cell_type": "code",
      "metadata": {
        "id": "ZSXv7lWzgOru"
      },
      "source": [
        "for features, label in training_data:\n",
        "    x_train.append(features)\n",
        "    y_train.append(label)\n",
        "\n",
        "x_train= np.array(x_train).reshape(-1,256,256,3)"
      ],
      "execution_count": null,
      "outputs": []
    },
    {
      "cell_type": "code",
      "metadata": {
        "id": "GiRKeI4lSj6U"
      },
      "source": [
        "for features, label in testing_data:\n",
        "    x_test.append(features)\n",
        "    y_test.append(label)\n",
        "x_test= np.array(x_test).reshape(-1,256,256,3)\n",
        "\n"
      ],
      "execution_count": null,
      "outputs": []
    },
    {
      "cell_type": "code",
      "metadata": {
        "id": "938zF1f8TZOt"
      },
      "source": [
        "def save_training_data(x_train,y_train):\n",
        "    pickle_out=open(\"x_train_coloured.pickle\",\"wb\")\n",
        "    pickle.dump(x_train,pickle_out)\n",
        "    pickle_out.close()\n",
        "\n",
        "    pickle_out=open(\"y_train_coloured.pickle\",\"wb\")\n",
        "    pickle.dump(y_train,pickle_out)\n",
        "    pickle_out.close\n",
        "save_training_data(x_train,y_train)"
      ],
      "execution_count": null,
      "outputs": []
    },
    {
      "cell_type": "code",
      "metadata": {
        "id": "zQrDxAHdT1De"
      },
      "source": [
        "def save_testing_data(x_test,y_test):\n",
        "    pickle_out=open(\"x_test_coloured.pickle\",\"wb\")\n",
        "    pickle.dump(x_test,pickle_out)\n",
        "    pickle_out.close()\n",
        "\n",
        "    pickle_out=open(\"y_test_coloured.pickle\",\"wb\")\n",
        "    pickle.dump(y_test,pickle_out)\n",
        "    pickle_out.close()\n",
        "save_testing_data(x_test,y_test)\n"
      ],
      "execution_count": null,
      "outputs": []
    },
    {
      "cell_type": "code",
      "metadata": {
        "id": "2e4eZ2NxT5CY"
      },
      "source": [
        "def load_data():\n",
        "    pickle_in=open(\"x_train_coloured.pickle\",\"rb\")\n",
        "    x_train=pickle.load(pickle_in)\n",
        "    return x_train\n",
        "\n"
      ],
      "execution_count": null,
      "outputs": []
    },
    {
      "cell_type": "code",
      "metadata": {
        "colab": {
          "base_uri": "https://localhost:8080/"
        },
        "id": "NgXOwkDXVn42",
        "outputId": "c05adb50-4d3f-4fc0-87c7-cecf0602f9c6"
      },
      "source": [
        "from tensorflow import keras\n",
        "K.clear_session()\n",
        "\n",
        "#Designing the model\n",
        "model = Sequential()\n",
        "model.add(Conv2D(64,(3,3),padding=\"same\",input_shape=(256,256,3)))\n",
        "model.add(Activation(\"relu\"))\n",
        "model.add(BatchNormalization(axis=-1))\n",
        "model.add(MaxPooling2D(pool_size=(3,3)))\n",
        "model.add(Dropout(0.25))\n",
        "model.add(Conv2D(64,(3,3),padding=\"same\"))\n",
        "model.add(Activation(\"relu\"))\n",
        "model.add(BatchNormalization(axis=-1))\n",
        "model.add(Conv2D(256,(3,3),padding=\"same\"))\n",
        "model.add(Activation(\"relu\"))\n",
        "model.add(BatchNormalization(axis=-1))\n",
        "model.add(MaxPooling2D(pool_size=(2,2)))\n",
        "model.add(Dropout(0.4))\n",
        "\n",
        "model.add(Conv2D(256,(3,3),padding=\"same\"))\n",
        "model.add(Activation(\"relu\"))\n",
        "model.add(BatchNormalization(axis=1))\n",
        "\n",
        "model.add(Conv2D(128,(3,3),padding=\"same\"))\n",
        "model.add(Activation(\"relu\"))\n",
        "model.add(BatchNormalization(axis=-1))\n",
        "model.add(MaxPooling2D(pool_size=(2,2)))\n",
        "model.add(Dropout(0.25))\n",
        "model.add(Flatten())\n",
        "model.add(Dense(1024, kernel_regularizer='l2'))\n",
        "model.add(Activation(\"relu\"))\n",
        "model.add(BatchNormalization())\n",
        "#model.add(Dropout(0.25))\n",
        "model.add(Dense(5))\n",
        "model.add(Activation(\"softmax\"))\n",
        "\n",
        "model.summary()\n",
        "\n",
        "optimizer =  SGD(learning_rate=0.01, momentum=0.9, nesterov= True)\n",
        "model.compile(loss=\"categorical_crossentropy\",optimizer=optimizer,metrics=[\"accuracy\"])"
      ],
      "execution_count": null,
      "outputs": [
        {
          "output_type": "stream",
          "text": [
            "Model: \"sequential_1\"\n",
            "_________________________________________________________________\n",
            "Layer (type)                 Output Shape              Param #   \n",
            "=================================================================\n",
            "conv2d_1 (Conv2D)            (None, 256, 256, 64)      1792      \n",
            "_________________________________________________________________\n",
            "activation_1 (Activation)    (None, 256, 256, 64)      0         \n",
            "_________________________________________________________________\n",
            "batch_normalization_1 (Batch (None, 256, 256, 64)      256       \n",
            "_________________________________________________________________\n",
            "max_pooling2d_1 (MaxPooling2 (None, 85, 85, 64)        0         \n",
            "_________________________________________________________________\n",
            "dropout_1 (Dropout)          (None, 85, 85, 64)        0         \n",
            "_________________________________________________________________\n",
            "conv2d_2 (Conv2D)            (None, 85, 85, 64)        36928     \n",
            "_________________________________________________________________\n",
            "activation_2 (Activation)    (None, 85, 85, 64)        0         \n",
            "_________________________________________________________________\n",
            "batch_normalization_2 (Batch (None, 85, 85, 64)        256       \n",
            "_________________________________________________________________\n",
            "conv2d_3 (Conv2D)            (None, 85, 85, 256)       147712    \n",
            "_________________________________________________________________\n",
            "activation_3 (Activation)    (None, 85, 85, 256)       0         \n",
            "_________________________________________________________________\n",
            "batch_normalization_3 (Batch (None, 85, 85, 256)       1024      \n",
            "_________________________________________________________________\n",
            "max_pooling2d_2 (MaxPooling2 (None, 42, 42, 256)       0         \n",
            "_________________________________________________________________\n",
            "dropout_2 (Dropout)          (None, 42, 42, 256)       0         \n",
            "_________________________________________________________________\n",
            "conv2d_4 (Conv2D)            (None, 42, 42, 256)       590080    \n",
            "_________________________________________________________________\n",
            "activation_4 (Activation)    (None, 42, 42, 256)       0         \n",
            "_________________________________________________________________\n",
            "batch_normalization_4 (Batch (None, 42, 42, 256)       168       \n",
            "_________________________________________________________________\n",
            "conv2d_5 (Conv2D)            (None, 42, 42, 128)       295040    \n",
            "_________________________________________________________________\n",
            "activation_5 (Activation)    (None, 42, 42, 128)       0         \n",
            "_________________________________________________________________\n",
            "batch_normalization_5 (Batch (None, 42, 42, 128)       512       \n",
            "_________________________________________________________________\n",
            "max_pooling2d_3 (MaxPooling2 (None, 21, 21, 128)       0         \n",
            "_________________________________________________________________\n",
            "dropout_3 (Dropout)          (None, 21, 21, 128)       0         \n",
            "_________________________________________________________________\n",
            "flatten_1 (Flatten)          (None, 56448)             0         \n",
            "_________________________________________________________________\n",
            "dense_1 (Dense)              (None, 1024)              57803776  \n",
            "_________________________________________________________________\n",
            "activation_6 (Activation)    (None, 1024)              0         \n",
            "_________________________________________________________________\n",
            "batch_normalization_6 (Batch (None, 1024)              4096      \n",
            "_________________________________________________________________\n",
            "dense_2 (Dense)              (None, 5)                 5125      \n",
            "_________________________________________________________________\n",
            "activation_7 (Activation)    (None, 5)                 0         \n",
            "=================================================================\n",
            "Total params: 58,886,765\n",
            "Trainable params: 58,883,609\n",
            "Non-trainable params: 3,156\n",
            "_________________________________________________________________\n"
          ],
          "name": "stdout"
        }
      ]
    },
    {
      "cell_type": "code",
      "metadata": {
        "id": "7uMllCQ3ItQx"
      },
      "source": [
        "y_train_cat= to_categorical(y_train,5)\n"
      ],
      "execution_count": null,
      "outputs": []
    },
    {
      "cell_type": "code",
      "metadata": {
        "id": "Hwaqkg3UI4bb"
      },
      "source": [
        "y_test_cat = to_categorical(y_test,5)"
      ],
      "execution_count": null,
      "outputs": []
    },
    {
      "cell_type": "code",
      "metadata": {
        "id": "HYWo263vhdNB"
      },
      "source": [
        "from keras.callbacks import History \n",
        "history = History()"
      ],
      "execution_count": null,
      "outputs": []
    },
    {
      "cell_type": "code",
      "metadata": {
        "colab": {
          "base_uri": "https://localhost:8080/"
        },
        "id": "oHPWygCmf3vo",
        "outputId": "b55a7b7f-1684-47df-b4b1-c3e781e554ef"
      },
      "source": [
        "#earlystopper = EarlyStopping(patience=20, verbose=1)\n",
        "checkpointer = ModelCheckpoint('leaf_diseases_coloured.h5', verbose=1, save_best_only=True)\n",
        "reduce_lr = ReduceLROnPlateau(monitor='val_loss', factor=np.sqrt(0.1), cooldown=0, patience=5, min_lr=1e-5)\n",
        "results = model.fit(image_gen.flow(x_train,y_train_cat,batch_size = 32), validation_data=(x_test,y_test_cat), epochs=100, verbose=1, shuffle=True, callbacks = [history,checkpointer,reduce_lr])"
      ],
      "execution_count": null,
      "outputs": [
        {
          "output_type": "stream",
          "text": [
            "Epoch 1/100\n",
            "13/13 [==============================] - 8s 578ms/step - loss: 24.0064 - accuracy: 0.2359 - val_loss: 652.9634 - val_accuracy: 0.2112\n",
            "\n",
            "Epoch 00001: val_loss improved from inf to 652.96341, saving model to leaf_diseases_coloured.h5\n",
            "Epoch 2/100\n",
            "13/13 [==============================] - 6s 464ms/step - loss: 23.5910 - accuracy: 0.3317 - val_loss: 388.5067 - val_accuracy: 0.1379\n",
            "\n",
            "Epoch 00002: val_loss improved from 652.96341 to 388.50665, saving model to leaf_diseases_coloured.h5\n",
            "Epoch 3/100\n",
            "13/13 [==============================] - 7s 501ms/step - loss: 23.4558 - accuracy: 0.3415 - val_loss: 193.4251 - val_accuracy: 0.1207\n",
            "\n",
            "Epoch 00003: val_loss improved from 388.50665 to 193.42511, saving model to leaf_diseases_coloured.h5\n",
            "Epoch 4/100\n",
            "13/13 [==============================] - 6s 497ms/step - loss: 22.6528 - accuracy: 0.3710 - val_loss: 74.2309 - val_accuracy: 0.1810\n",
            "\n",
            "Epoch 00004: val_loss improved from 193.42511 to 74.23091, saving model to leaf_diseases_coloured.h5\n",
            "Epoch 5/100\n",
            "13/13 [==============================] - 6s 495ms/step - loss: 21.6991 - accuracy: 0.4398 - val_loss: 96.8924 - val_accuracy: 0.1164\n",
            "\n",
            "Epoch 00005: val_loss did not improve from 74.23091\n",
            "Epoch 6/100\n",
            "13/13 [==============================] - 6s 499ms/step - loss: 20.9166 - accuracy: 0.4423 - val_loss: 47.9065 - val_accuracy: 0.2241\n",
            "\n",
            "Epoch 00006: val_loss improved from 74.23091 to 47.90650, saving model to leaf_diseases_coloured.h5\n",
            "Epoch 7/100\n",
            "13/13 [==============================] - 7s 500ms/step - loss: 20.0035 - accuracy: 0.4840 - val_loss: 32.7627 - val_accuracy: 0.2112\n",
            "\n",
            "Epoch 00007: val_loss improved from 47.90650 to 32.76275, saving model to leaf_diseases_coloured.h5\n",
            "Epoch 8/100\n",
            "13/13 [==============================] - 6s 493ms/step - loss: 19.2273 - accuracy: 0.4914 - val_loss: 27.6916 - val_accuracy: 0.1681\n",
            "\n",
            "Epoch 00008: val_loss improved from 32.76275 to 27.69157, saving model to leaf_diseases_coloured.h5\n",
            "Epoch 9/100\n",
            "13/13 [==============================] - 7s 503ms/step - loss: 18.5582 - accuracy: 0.4570 - val_loss: 23.3918 - val_accuracy: 0.1983\n",
            "\n",
            "Epoch 00009: val_loss improved from 27.69157 to 23.39180, saving model to leaf_diseases_coloured.h5\n",
            "Epoch 10/100\n",
            "13/13 [==============================] - 6s 495ms/step - loss: 17.5348 - accuracy: 0.4889 - val_loss: 22.3703 - val_accuracy: 0.1853\n",
            "\n",
            "Epoch 00010: val_loss improved from 23.39180 to 22.37031, saving model to leaf_diseases_coloured.h5\n",
            "Epoch 11/100\n",
            "13/13 [==============================] - 6s 494ms/step - loss: 16.8524 - accuracy: 0.4889 - val_loss: 26.7737 - val_accuracy: 0.1552\n",
            "\n",
            "Epoch 00011: val_loss did not improve from 22.37031\n",
            "Epoch 12/100\n",
            "13/13 [==============================] - 6s 495ms/step - loss: 16.1861 - accuracy: 0.4693 - val_loss: 19.2340 - val_accuracy: 0.2586\n",
            "\n",
            "Epoch 00012: val_loss improved from 22.37031 to 19.23397, saving model to leaf_diseases_coloured.h5\n",
            "Epoch 13/100\n",
            "13/13 [==============================] - 6s 495ms/step - loss: 15.4739 - accuracy: 0.4791 - val_loss: 17.5702 - val_accuracy: 0.2284\n",
            "\n",
            "Epoch 00013: val_loss improved from 19.23397 to 17.57019, saving model to leaf_diseases_coloured.h5\n",
            "Epoch 14/100\n",
            "13/13 [==============================] - 6s 491ms/step - loss: 14.9568 - accuracy: 0.4570 - val_loss: 15.5801 - val_accuracy: 0.3233\n",
            "\n",
            "Epoch 00014: val_loss improved from 17.57019 to 15.58011, saving model to leaf_diseases_coloured.h5\n",
            "Epoch 15/100\n",
            "13/13 [==============================] - 7s 502ms/step - loss: 14.1741 - accuracy: 0.5504 - val_loss: 14.8400 - val_accuracy: 0.3534\n",
            "\n",
            "Epoch 00015: val_loss improved from 15.58011 to 14.83997, saving model to leaf_diseases_coloured.h5\n",
            "Epoch 16/100\n",
            "13/13 [==============================] - 6s 497ms/step - loss: 13.4462 - accuracy: 0.5307 - val_loss: 16.3660 - val_accuracy: 0.2457\n",
            "\n",
            "Epoch 00016: val_loss did not improve from 14.83997\n",
            "Epoch 17/100\n",
            "13/13 [==============================] - 6s 492ms/step - loss: 12.9222 - accuracy: 0.5356 - val_loss: 19.0113 - val_accuracy: 0.1724\n",
            "\n",
            "Epoch 00017: val_loss did not improve from 14.83997\n",
            "Epoch 18/100\n",
            "13/13 [==============================] - 6s 494ms/step - loss: 12.5798 - accuracy: 0.5012 - val_loss: 14.4167 - val_accuracy: 0.2414\n",
            "\n",
            "Epoch 00018: val_loss improved from 14.83997 to 14.41672, saving model to leaf_diseases_coloured.h5\n",
            "Epoch 19/100\n",
            "13/13 [==============================] - 6s 495ms/step - loss: 11.8490 - accuracy: 0.5749 - val_loss: 15.8628 - val_accuracy: 0.1897\n",
            "\n",
            "Epoch 00019: val_loss did not improve from 14.41672\n",
            "Epoch 20/100\n",
            "13/13 [==============================] - 6s 491ms/step - loss: 11.4463 - accuracy: 0.5332 - val_loss: 14.3760 - val_accuracy: 0.2543\n",
            "\n",
            "Epoch 00020: val_loss improved from 14.41672 to 14.37600, saving model to leaf_diseases_coloured.h5\n",
            "Epoch 21/100\n",
            "13/13 [==============================] - 6s 489ms/step - loss: 11.1159 - accuracy: 0.5061 - val_loss: 13.1465 - val_accuracy: 0.2328\n",
            "\n",
            "Epoch 00021: val_loss improved from 14.37600 to 13.14654, saving model to leaf_diseases_coloured.h5\n",
            "Epoch 22/100\n",
            "13/13 [==============================] - 6s 492ms/step - loss: 10.5142 - accuracy: 0.5307 - val_loss: 11.7194 - val_accuracy: 0.3405\n",
            "\n",
            "Epoch 00022: val_loss improved from 13.14654 to 11.71942, saving model to leaf_diseases_coloured.h5\n",
            "Epoch 23/100\n",
            "13/13 [==============================] - 6s 495ms/step - loss: 10.1708 - accuracy: 0.5676 - val_loss: 11.1636 - val_accuracy: 0.3621\n",
            "\n",
            "Epoch 00023: val_loss improved from 11.71942 to 11.16356, saving model to leaf_diseases_coloured.h5\n",
            "Epoch 24/100\n",
            "13/13 [==============================] - 6s 490ms/step - loss: 9.8124 - accuracy: 0.5258 - val_loss: 14.2232 - val_accuracy: 0.1767\n",
            "\n",
            "Epoch 00024: val_loss did not improve from 11.16356\n",
            "Epoch 25/100\n",
            "13/13 [==============================] - 6s 492ms/step - loss: 9.4447 - accuracy: 0.5455 - val_loss: 13.0116 - val_accuracy: 0.2328\n",
            "\n",
            "Epoch 00025: val_loss did not improve from 11.16356\n",
            "Epoch 26/100\n",
            "13/13 [==============================] - 6s 494ms/step - loss: 8.9423 - accuracy: 0.5848 - val_loss: 11.2065 - val_accuracy: 0.2198\n",
            "\n",
            "Epoch 00026: val_loss did not improve from 11.16356\n",
            "Epoch 27/100\n",
            "13/13 [==============================] - 6s 492ms/step - loss: 8.6837 - accuracy: 0.5381 - val_loss: 9.7804 - val_accuracy: 0.3836\n",
            "\n",
            "Epoch 00027: val_loss improved from 11.16356 to 9.78040, saving model to leaf_diseases_coloured.h5\n",
            "Epoch 28/100\n",
            "13/13 [==============================] - 6s 492ms/step - loss: 8.2386 - accuracy: 0.5995 - val_loss: 10.5878 - val_accuracy: 0.2888\n",
            "\n",
            "Epoch 00028: val_loss did not improve from 9.78040\n",
            "Epoch 29/100\n",
            "13/13 [==============================] - 6s 490ms/step - loss: 8.1238 - accuracy: 0.5307 - val_loss: 10.5305 - val_accuracy: 0.2241\n",
            "\n",
            "Epoch 00029: val_loss did not improve from 9.78040\n",
            "Epoch 30/100\n",
            "13/13 [==============================] - 6s 494ms/step - loss: 7.7883 - accuracy: 0.5184 - val_loss: 9.0922 - val_accuracy: 0.2931\n",
            "\n",
            "Epoch 00030: val_loss improved from 9.78040 to 9.09223, saving model to leaf_diseases_coloured.h5\n",
            "Epoch 31/100\n",
            "13/13 [==============================] - 6s 491ms/step - loss: 7.1760 - accuracy: 0.6069 - val_loss: 11.5966 - val_accuracy: 0.2586\n",
            "\n",
            "Epoch 00031: val_loss did not improve from 9.09223\n",
            "Epoch 32/100\n",
            "13/13 [==============================] - 6s 491ms/step - loss: 7.0384 - accuracy: 0.5749 - val_loss: 10.2484 - val_accuracy: 0.3103\n",
            "\n",
            "Epoch 00032: val_loss did not improve from 9.09223\n",
            "Epoch 33/100\n",
            "13/13 [==============================] - 6s 494ms/step - loss: 6.8036 - accuracy: 0.6069 - val_loss: 9.9134 - val_accuracy: 0.2629\n",
            "\n",
            "Epoch 00033: val_loss did not improve from 9.09223\n",
            "Epoch 34/100\n",
            "13/13 [==============================] - 6s 492ms/step - loss: 6.5741 - accuracy: 0.5676 - val_loss: 10.8999 - val_accuracy: 0.2026\n",
            "\n",
            "Epoch 00034: val_loss did not improve from 9.09223\n",
            "Epoch 35/100\n",
            "13/13 [==============================] - 6s 493ms/step - loss: 6.4175 - accuracy: 0.5455 - val_loss: 8.7454 - val_accuracy: 0.2586\n",
            "\n",
            "Epoch 00035: val_loss improved from 9.09223 to 8.74541, saving model to leaf_diseases_coloured.h5\n",
            "Epoch 36/100\n",
            "13/13 [==============================] - 6s 494ms/step - loss: 6.0124 - accuracy: 0.6511 - val_loss: 7.2423 - val_accuracy: 0.3276\n",
            "\n",
            "Epoch 00036: val_loss improved from 8.74541 to 7.24225, saving model to leaf_diseases_coloured.h5\n",
            "Epoch 37/100\n",
            "13/13 [==============================] - 6s 496ms/step - loss: 6.0200 - accuracy: 0.5651 - val_loss: 6.8782 - val_accuracy: 0.3836\n",
            "\n",
            "Epoch 00037: val_loss improved from 7.24225 to 6.87820, saving model to leaf_diseases_coloured.h5\n",
            "Epoch 38/100\n",
            "13/13 [==============================] - 6s 499ms/step - loss: 5.7210 - accuracy: 0.5700 - val_loss: 6.2158 - val_accuracy: 0.4741\n",
            "\n",
            "Epoch 00038: val_loss improved from 6.87820 to 6.21578, saving model to leaf_diseases_coloured.h5\n",
            "Epoch 39/100\n",
            "13/13 [==============================] - 6s 491ms/step - loss: 5.6006 - accuracy: 0.5848 - val_loss: 6.8475 - val_accuracy: 0.3405\n",
            "\n",
            "Epoch 00039: val_loss did not improve from 6.21578\n",
            "Epoch 40/100\n",
            "13/13 [==============================] - 6s 493ms/step - loss: 5.4434 - accuracy: 0.6044 - val_loss: 5.5318 - val_accuracy: 0.5172\n",
            "\n",
            "Epoch 00040: val_loss improved from 6.21578 to 5.53178, saving model to leaf_diseases_coloured.h5\n",
            "Epoch 41/100\n",
            "13/13 [==============================] - 6s 491ms/step - loss: 5.2581 - accuracy: 0.5971 - val_loss: 8.1033 - val_accuracy: 0.2328\n",
            "\n",
            "Epoch 00041: val_loss did not improve from 5.53178\n",
            "Epoch 42/100\n",
            "13/13 [==============================] - 6s 493ms/step - loss: 5.0936 - accuracy: 0.6241 - val_loss: 5.8296 - val_accuracy: 0.4224\n",
            "\n",
            "Epoch 00042: val_loss did not improve from 5.53178\n",
            "Epoch 43/100\n",
            "13/13 [==============================] - 6s 493ms/step - loss: 5.0142 - accuracy: 0.6167 - val_loss: 6.3100 - val_accuracy: 0.3233\n",
            "\n",
            "Epoch 00043: val_loss did not improve from 5.53178\n",
            "Epoch 44/100\n",
            "13/13 [==============================] - 6s 492ms/step - loss: 4.8512 - accuracy: 0.6118 - val_loss: 5.3742 - val_accuracy: 0.4741\n",
            "\n",
            "Epoch 00044: val_loss improved from 5.53178 to 5.37421, saving model to leaf_diseases_coloured.h5\n",
            "Epoch 45/100\n",
            "13/13 [==============================] - 6s 492ms/step - loss: 4.7227 - accuracy: 0.6241 - val_loss: 5.2706 - val_accuracy: 0.4914\n",
            "\n",
            "Epoch 00045: val_loss improved from 5.37421 to 5.27059, saving model to leaf_diseases_coloured.h5\n",
            "Epoch 46/100\n",
            "13/13 [==============================] - 6s 491ms/step - loss: 4.5979 - accuracy: 0.6167 - val_loss: 5.6351 - val_accuracy: 0.4397\n",
            "\n",
            "Epoch 00046: val_loss did not improve from 5.27059\n",
            "Epoch 47/100\n",
            "13/13 [==============================] - 6s 493ms/step - loss: 4.3981 - accuracy: 0.6708 - val_loss: 4.8159 - val_accuracy: 0.4871\n",
            "\n",
            "Epoch 00047: val_loss improved from 5.27059 to 4.81588, saving model to leaf_diseases_coloured.h5\n",
            "Epoch 48/100\n",
            "13/13 [==============================] - 6s 492ms/step - loss: 4.3518 - accuracy: 0.5995 - val_loss: 4.8968 - val_accuracy: 0.4612\n",
            "\n",
            "Epoch 00048: val_loss did not improve from 4.81588\n",
            "Epoch 49/100\n",
            "13/13 [==============================] - 7s 501ms/step - loss: 4.3767 - accuracy: 0.6192 - val_loss: 4.7250 - val_accuracy: 0.4784\n",
            "\n",
            "Epoch 00049: val_loss improved from 4.81588 to 4.72502, saving model to leaf_diseases_coloured.h5\n",
            "Epoch 50/100\n",
            "13/13 [==============================] - 6s 492ms/step - loss: 4.0310 - accuracy: 0.6364 - val_loss: 4.5311 - val_accuracy: 0.4957\n",
            "\n",
            "Epoch 00050: val_loss improved from 4.72502 to 4.53110, saving model to leaf_diseases_coloured.h5\n",
            "Epoch 51/100\n",
            "13/13 [==============================] - 6s 491ms/step - loss: 4.1503 - accuracy: 0.5971 - val_loss: 5.6680 - val_accuracy: 0.3362\n",
            "\n",
            "Epoch 00051: val_loss did not improve from 4.53110\n",
            "Epoch 52/100\n",
            "13/13 [==============================] - 6s 494ms/step - loss: 3.9353 - accuracy: 0.5921 - val_loss: 3.9712 - val_accuracy: 0.6164\n",
            "\n",
            "Epoch 00052: val_loss improved from 4.53110 to 3.97122, saving model to leaf_diseases_coloured.h5\n",
            "Epoch 53/100\n",
            "13/13 [==============================] - 6s 492ms/step - loss: 3.7170 - accuracy: 0.6830 - val_loss: 4.0565 - val_accuracy: 0.5776\n",
            "\n",
            "Epoch 00053: val_loss did not improve from 3.97122\n",
            "Epoch 54/100\n",
            "13/13 [==============================] - 6s 493ms/step - loss: 3.8626 - accuracy: 0.6265 - val_loss: 4.4170 - val_accuracy: 0.4828\n",
            "\n",
            "Epoch 00054: val_loss did not improve from 3.97122\n",
            "Epoch 55/100\n",
            "13/13 [==============================] - 6s 491ms/step - loss: 3.6431 - accuracy: 0.6265 - val_loss: 4.1057 - val_accuracy: 0.5000\n",
            "\n",
            "Epoch 00055: val_loss did not improve from 3.97122\n",
            "Epoch 56/100\n",
            "13/13 [==============================] - 6s 491ms/step - loss: 3.6458 - accuracy: 0.6364 - val_loss: 4.2059 - val_accuracy: 0.4569\n",
            "\n",
            "Epoch 00056: val_loss did not improve from 3.97122\n",
            "Epoch 57/100\n",
            "13/13 [==============================] - 6s 498ms/step - loss: 3.5031 - accuracy: 0.6437 - val_loss: 5.0628 - val_accuracy: 0.3276\n",
            "\n",
            "Epoch 00057: val_loss did not improve from 3.97122\n",
            "Epoch 58/100\n",
            "13/13 [==============================] - 6s 484ms/step - loss: 3.4594 - accuracy: 0.6314 - val_loss: 5.0823 - val_accuracy: 0.2845\n",
            "\n",
            "Epoch 00058: val_loss did not improve from 3.97122\n",
            "Epoch 59/100\n",
            "13/13 [==============================] - 6s 494ms/step - loss: 3.3748 - accuracy: 0.6413 - val_loss: 4.6190 - val_accuracy: 0.3448\n",
            "\n",
            "Epoch 00059: val_loss did not improve from 3.97122\n",
            "Epoch 60/100\n",
            "13/13 [==============================] - 6s 490ms/step - loss: 3.2557 - accuracy: 0.6732 - val_loss: 4.7593 - val_accuracy: 0.2845\n",
            "\n",
            "Epoch 00060: val_loss did not improve from 3.97122\n",
            "Epoch 61/100\n",
            "13/13 [==============================] - 6s 497ms/step - loss: 3.2144 - accuracy: 0.7027 - val_loss: 6.0132 - val_accuracy: 0.2069\n",
            "\n",
            "Epoch 00061: val_loss did not improve from 3.97122\n",
            "Epoch 62/100\n",
            "13/13 [==============================] - 6s 496ms/step - loss: 3.1579 - accuracy: 0.7027 - val_loss: 5.9621 - val_accuracy: 0.2716\n",
            "\n",
            "Epoch 00062: val_loss did not improve from 3.97122\n",
            "Epoch 63/100\n",
            "13/13 [==============================] - 6s 489ms/step - loss: 3.1508 - accuracy: 0.6929 - val_loss: 4.9824 - val_accuracy: 0.2888\n",
            "\n",
            "Epoch 00063: val_loss did not improve from 3.97122\n",
            "Epoch 64/100\n",
            "13/13 [==============================] - 6s 490ms/step - loss: 3.0974 - accuracy: 0.7125 - val_loss: 4.4338 - val_accuracy: 0.3707\n",
            "\n",
            "Epoch 00064: val_loss did not improve from 3.97122\n",
            "Epoch 65/100\n",
            "13/13 [==============================] - 6s 490ms/step - loss: 2.9775 - accuracy: 0.7518 - val_loss: 4.4674 - val_accuracy: 0.3491\n",
            "\n",
            "Epoch 00065: val_loss did not improve from 3.97122\n",
            "Epoch 66/100\n",
            "13/13 [==============================] - 6s 491ms/step - loss: 3.0248 - accuracy: 0.7199 - val_loss: 3.8166 - val_accuracy: 0.4914\n",
            "\n",
            "Epoch 00066: val_loss improved from 3.97122 to 3.81662, saving model to leaf_diseases_coloured.h5\n",
            "Epoch 67/100\n",
            "13/13 [==============================] - 6s 494ms/step - loss: 2.9761 - accuracy: 0.7617 - val_loss: 4.1002 - val_accuracy: 0.4310\n",
            "\n",
            "Epoch 00067: val_loss did not improve from 3.81662\n",
            "Epoch 68/100\n",
            "13/13 [==============================] - 6s 488ms/step - loss: 2.9575 - accuracy: 0.7518 - val_loss: 4.0280 - val_accuracy: 0.4612\n",
            "\n",
            "Epoch 00068: val_loss did not improve from 3.81662\n",
            "Epoch 69/100\n",
            "13/13 [==============================] - 6s 495ms/step - loss: 3.0101 - accuracy: 0.7346 - val_loss: 4.1139 - val_accuracy: 0.4095\n",
            "\n",
            "Epoch 00069: val_loss did not improve from 3.81662\n",
            "Epoch 70/100\n",
            "13/13 [==============================] - 6s 488ms/step - loss: 2.9345 - accuracy: 0.7690 - val_loss: 3.8153 - val_accuracy: 0.5129\n",
            "\n",
            "Epoch 00070: val_loss improved from 3.81662 to 3.81533, saving model to leaf_diseases_coloured.h5\n",
            "Epoch 71/100\n",
            "13/13 [==============================] - 6s 497ms/step - loss: 2.9087 - accuracy: 0.7617 - val_loss: 3.9007 - val_accuracy: 0.4655\n",
            "\n",
            "Epoch 00071: val_loss did not improve from 3.81533\n",
            "Epoch 72/100\n",
            "13/13 [==============================] - 6s 494ms/step - loss: 2.8987 - accuracy: 0.7617 - val_loss: 3.9589 - val_accuracy: 0.4526\n",
            "\n",
            "Epoch 00072: val_loss did not improve from 3.81533\n",
            "Epoch 73/100\n",
            "13/13 [==============================] - 6s 495ms/step - loss: 2.8553 - accuracy: 0.7666 - val_loss: 3.7064 - val_accuracy: 0.5129\n",
            "\n",
            "Epoch 00073: val_loss improved from 3.81533 to 3.70639, saving model to leaf_diseases_coloured.h5\n",
            "Epoch 74/100\n",
            "13/13 [==============================] - 6s 491ms/step - loss: 2.8281 - accuracy: 0.7715 - val_loss: 3.5220 - val_accuracy: 0.5690\n",
            "\n",
            "Epoch 00074: val_loss improved from 3.70639 to 3.52197, saving model to leaf_diseases_coloured.h5\n",
            "Epoch 75/100\n",
            "13/13 [==============================] - 6s 495ms/step - loss: 2.8982 - accuracy: 0.7518 - val_loss: 3.4199 - val_accuracy: 0.5819\n",
            "\n",
            "Epoch 00075: val_loss improved from 3.52197 to 3.41988, saving model to leaf_diseases_coloured.h5\n",
            "Epoch 76/100\n",
            "13/13 [==============================] - 6s 495ms/step - loss: 2.8352 - accuracy: 0.7715 - val_loss: 3.4439 - val_accuracy: 0.5819\n",
            "\n",
            "Epoch 00076: val_loss did not improve from 3.41988\n",
            "Epoch 77/100\n",
            "13/13 [==============================] - 6s 489ms/step - loss: 2.8251 - accuracy: 0.7740 - val_loss: 3.4070 - val_accuracy: 0.5905\n",
            "\n",
            "Epoch 00077: val_loss improved from 3.41988 to 3.40702, saving model to leaf_diseases_coloured.h5\n",
            "Epoch 78/100\n",
            "13/13 [==============================] - 6s 498ms/step - loss: 2.7955 - accuracy: 0.7690 - val_loss: 3.3492 - val_accuracy: 0.6207\n",
            "\n",
            "Epoch 00078: val_loss improved from 3.40702 to 3.34919, saving model to leaf_diseases_coloured.h5\n",
            "Epoch 79/100\n",
            "13/13 [==============================] - 6s 494ms/step - loss: 2.8235 - accuracy: 0.7961 - val_loss: 3.2178 - val_accuracy: 0.6681\n",
            "\n",
            "Epoch 00079: val_loss improved from 3.34919 to 3.21781, saving model to leaf_diseases_coloured.h5\n",
            "Epoch 80/100\n",
            "13/13 [==============================] - 6s 493ms/step - loss: 2.7934 - accuracy: 0.7543 - val_loss: 3.4615 - val_accuracy: 0.5905\n",
            "\n",
            "Epoch 00080: val_loss did not improve from 3.21781\n",
            "Epoch 81/100\n",
            "13/13 [==============================] - 6s 491ms/step - loss: 2.8342 - accuracy: 0.7297 - val_loss: 3.4912 - val_accuracy: 0.5603\n",
            "\n",
            "Epoch 00081: val_loss did not improve from 3.21781\n",
            "Epoch 82/100\n",
            "13/13 [==============================] - 6s 491ms/step - loss: 2.8229 - accuracy: 0.7371 - val_loss: 3.2136 - val_accuracy: 0.6767\n",
            "\n",
            "Epoch 00082: val_loss improved from 3.21781 to 3.21363, saving model to leaf_diseases_coloured.h5\n",
            "Epoch 83/100\n",
            "13/13 [==============================] - 6s 493ms/step - loss: 2.7921 - accuracy: 0.7543 - val_loss: 3.2314 - val_accuracy: 0.6552\n",
            "\n",
            "Epoch 00083: val_loss did not improve from 3.21363\n",
            "Epoch 84/100\n",
            "13/13 [==============================] - 6s 491ms/step - loss: 2.7972 - accuracy: 0.7346 - val_loss: 3.1554 - val_accuracy: 0.6724\n",
            "\n",
            "Epoch 00084: val_loss improved from 3.21363 to 3.15539, saving model to leaf_diseases_coloured.h5\n",
            "Epoch 85/100\n",
            "13/13 [==============================] - 7s 501ms/step - loss: 2.7895 - accuracy: 0.7641 - val_loss: 3.3155 - val_accuracy: 0.5862\n",
            "\n",
            "Epoch 00085: val_loss did not improve from 3.15539\n",
            "Epoch 86/100\n",
            "13/13 [==============================] - 6s 493ms/step - loss: 2.7366 - accuracy: 0.7592 - val_loss: 3.2508 - val_accuracy: 0.6379\n",
            "\n",
            "Epoch 00086: val_loss did not improve from 3.15539\n",
            "Epoch 87/100\n",
            "13/13 [==============================] - 6s 489ms/step - loss: 2.7745 - accuracy: 0.7469 - val_loss: 3.1664 - val_accuracy: 0.6466\n",
            "\n",
            "Epoch 00087: val_loss did not improve from 3.15539\n",
            "Epoch 88/100\n",
            "13/13 [==============================] - 6s 493ms/step - loss: 2.6950 - accuracy: 0.7912 - val_loss: 3.1582 - val_accuracy: 0.6293\n",
            "\n",
            "Epoch 00088: val_loss did not improve from 3.15539\n",
            "Epoch 89/100\n",
            "13/13 [==============================] - 6s 495ms/step - loss: 2.7002 - accuracy: 0.7813 - val_loss: 3.0868 - val_accuracy: 0.6681\n",
            "\n",
            "Epoch 00089: val_loss improved from 3.15539 to 3.08680, saving model to leaf_diseases_coloured.h5\n",
            "Epoch 90/100\n",
            "13/13 [==============================] - 6s 488ms/step - loss: 2.7053 - accuracy: 0.7789 - val_loss: 3.3069 - val_accuracy: 0.6078\n",
            "\n",
            "Epoch 00090: val_loss did not improve from 3.08680\n",
            "Epoch 91/100\n",
            "13/13 [==============================] - 6s 495ms/step - loss: 2.6608 - accuracy: 0.7592 - val_loss: 3.3516 - val_accuracy: 0.5345\n",
            "\n",
            "Epoch 00091: val_loss did not improve from 3.08680\n",
            "Epoch 92/100\n",
            "13/13 [==============================] - 6s 493ms/step - loss: 2.7570 - accuracy: 0.7568 - val_loss: 3.1716 - val_accuracy: 0.6336\n",
            "\n",
            "Epoch 00092: val_loss did not improve from 3.08680\n",
            "Epoch 93/100\n",
            "13/13 [==============================] - 6s 498ms/step - loss: 2.5884 - accuracy: 0.7813 - val_loss: 3.0645 - val_accuracy: 0.6810\n",
            "\n",
            "Epoch 00093: val_loss improved from 3.08680 to 3.06451, saving model to leaf_diseases_coloured.h5\n",
            "Epoch 94/100\n",
            "13/13 [==============================] - 6s 494ms/step - loss: 2.6300 - accuracy: 0.7740 - val_loss: 3.0320 - val_accuracy: 0.6853\n",
            "\n",
            "Epoch 00094: val_loss improved from 3.06451 to 3.03196, saving model to leaf_diseases_coloured.h5\n",
            "Epoch 95/100\n",
            "13/13 [==============================] - 6s 492ms/step - loss: 2.5820 - accuracy: 0.7936 - val_loss: 3.1574 - val_accuracy: 0.6121\n",
            "\n",
            "Epoch 00095: val_loss did not improve from 3.03196\n",
            "Epoch 96/100\n",
            "13/13 [==============================] - 6s 496ms/step - loss: 2.5891 - accuracy: 0.7838 - val_loss: 3.1786 - val_accuracy: 0.6207\n",
            "\n",
            "Epoch 00096: val_loss did not improve from 3.03196\n",
            "Epoch 97/100\n",
            "13/13 [==============================] - 6s 497ms/step - loss: 2.5965 - accuracy: 0.7690 - val_loss: 3.0086 - val_accuracy: 0.6638\n",
            "\n",
            "Epoch 00097: val_loss improved from 3.03196 to 3.00858, saving model to leaf_diseases_coloured.h5\n",
            "Epoch 98/100\n",
            "13/13 [==============================] - 6s 496ms/step - loss: 2.5846 - accuracy: 0.7592 - val_loss: 2.9885 - val_accuracy: 0.6767\n",
            "\n",
            "Epoch 00098: val_loss improved from 3.00858 to 2.98849, saving model to leaf_diseases_coloured.h5\n",
            "Epoch 99/100\n",
            "13/13 [==============================] - 6s 491ms/step - loss: 2.5763 - accuracy: 0.7813 - val_loss: 3.0169 - val_accuracy: 0.6638\n",
            "\n",
            "Epoch 00099: val_loss did not improve from 2.98849\n",
            "Epoch 100/100\n",
            "13/13 [==============================] - 6s 488ms/step - loss: 2.5303 - accuracy: 0.7838 - val_loss: 3.0165 - val_accuracy: 0.6767\n",
            "\n",
            "Epoch 00100: val_loss did not improve from 2.98849\n"
          ],
          "name": "stdout"
        }
      ]
    },
    {
      "cell_type": "code",
      "metadata": {
        "colab": {
          "base_uri": "https://localhost:8080/",
          "height": 282
        },
        "id": "Pt-0iv7ZcwZS",
        "outputId": "bc65d105-c7ac-4559-859f-86860492847a"
      },
      "source": [
        "#plt.plot(results.history['loss'])\n",
        "plt.plot(results.history['val_loss'])\n",
        "\n",
        "\n"
      ],
      "execution_count": null,
      "outputs": [
        {
          "output_type": "execute_result",
          "data": {
            "text/plain": [
              "[<matplotlib.lines.Line2D at 0x7f034bea2cd0>]"
            ]
          },
          "metadata": {
            "tags": []
          },
          "execution_count": 42
        },
        {
          "output_type": "display_data",
          "data": {
            "image/png": "[encoded data removed]",
            "text/plain": [
              "<Figure size 432x288 with 1 Axes>"
            ]
          },
          "metadata": {
            "tags": [],
            "needs_background": "light"
          }
        }
      ]
    },
    {
      "cell_type": "code",
      "metadata": {
        "id": "jn5iy6w-lXwE"
      },
      "source": [
        "model.save(\"leaf_diseases_coloured.h5\")"
      ],
      "execution_count": null,
      "outputs": []
    },
    {
      "cell_type": "code",
      "metadata": {
        "id": "op3jzKzflavl"
      },
      "source": [
        "new_model = tf.keras.models.load_model(\"/content/leaf_diseases_coloured.h5\")"
      ],
      "execution_count": null,
      "outputs": []
    },
    {
      "cell_type": "code",
      "metadata": {
        "colab": {
          "base_uri": "https://localhost:8080/"
        },
        "id": "9TCVZhZclv7W",
        "outputId": "2b0f9907-0b2f-48fc-cb7b-3b3c94cab187"
      },
      "source": [
        "loss, acc = new_model.evaluate(x_test,y_test_cat, verbose=2)\n",
        "print('Restored model, accuracy: {:5.2f}%'.format(100*acc))"
      ],
      "execution_count": null,
      "outputs": [
        {
          "output_type": "stream",
          "text": [
            "232/232 - 1s - loss: 2.9885 - acc: 0.6767\n",
            "Restored model, accuracy: 67.67%\n"
          ],
          "name": "stdout"
        }
      ]
    },
    {
      "cell_type": "code",
      "metadata": {
        "id": "WJvk1Gc0mnMw"
      },
      "source": [
        "from sklearn.metrics import classification_report\n",
        "\n",
        "predictions = model.predict_classes(x_test)"
      ],
      "execution_count": null,
      "outputs": []
    },
    {
      "cell_type": "code",
      "metadata": {
        "colab": {
          "base_uri": "https://localhost:8080/"
        },
        "id": "VB8Ib8WtwWVJ",
        "outputId": "9ba03d0f-eb7a-459f-f0a2-c25cd4a40928"
      },
      "source": [
        "new_model = tf.keras.models.load_model(\"/content/drive/MyDrive/leaf_diseases_coloured.h5\")\n",
        "loss, acc = new_model.evaluate(x_test,y_test_cat, verbose=2)\n",
        "print('Restored model, accuracy: {:5.2f}%'.format(100*acc))"
      ],
      "execution_count": null,
      "outputs": [
        {
          "output_type": "stream",
          "text": [
            "232/232 - 1s - loss: 3.0165 - acc: 0.6767\n",
            "Restored model, accuracy: 67.67%\n"
          ],
          "name": "stdout"
        }
      ]
    },
    {
      "cell_type": "code",
      "metadata": {
        "colab": {
          "base_uri": "https://localhost:8080/"
        },
        "id": "bkyglHGwmoph",
        "outputId": "b463a599-f385-480e-e9d9-67a2b1a2c614"
      },
      "source": [
        "print(classification_report(y_test, predictions))"
      ],
      "execution_count": null,
      "outputs": [
        {
          "output_type": "stream",
          "text": [
            "              precision    recall  f1-score   support\n",
            "\n",
            "           0       0.75      0.33      0.46        27\n",
            "           1       0.62      0.69      0.65        54\n",
            "           2       0.58      0.78      0.66        63\n",
            "           3       0.62      0.62      0.62        55\n",
            "           4       0.95      0.58      0.72        33\n",
            "\n",
            "    accuracy                           0.64       232\n",
            "   macro avg       0.70      0.60      0.62       232\n",
            "weighted avg       0.67      0.64      0.63       232\n",
            "\n"
          ],
          "name": "stdout"
        }
      ]
    },
    {
      "cell_type": "code",
      "metadata": {
        "colab": {
          "base_uri": "https://localhost:8080/"
        },
        "id": "IYNGfUcbof9P",
        "outputId": "a4aa77cc-1f31-4b94-8e00-6910f2de1d05"
      },
      "source": [
        "results.history['accuracy']"
      ],
      "execution_count": null,
      "outputs": [
        {
          "output_type": "execute_result",
          "data": {
            "text/plain": [
              "[0.23587224,\n",
              " 0.33169532,\n",
              " 0.34152335,\n",
              " 0.37100738,\n",
              " 0.43980345,\n",
              " 0.44226044,\n",
              " 0.48402947,\n",
              " 0.49140048,\n",
              " 0.45700246,\n",
              " 0.4889435,\n",
              " 0.4889435,\n",
              " 0.46928746,\n",
              " 0.4791155,\n",
              " 0.45700246,\n",
              " 0.55036855,\n",
              " 0.53071254,\n",
              " 0.53562653,\n",
              " 0.5012285,\n",
              " 0.5749386,\n",
              " 0.5331695,\n",
              " 0.5061425,\n",
              " 0.53071254,\n",
              " 0.5675676,\n",
              " 0.5257985,\n",
              " 0.54545456,\n",
              " 0.58476657,\n",
              " 0.53808355,\n",
              " 0.5995086,\n",
              " 0.53071254,\n",
              " 0.5184275,\n",
              " 0.6068796,\n",
              " 0.5749386,\n",
              " 0.6068796,\n",
              " 0.5675676,\n",
              " 0.54545456,\n",
              " 0.65110564,\n",
              " 0.56511056,\n",
              " 0.57002455,\n",
              " 0.58476657,\n",
              " 0.6044226,\n",
              " 0.5970516,\n",
              " 0.62407863,\n",
              " 0.6167076,\n",
              " 0.61179364,\n",
              " 0.62407863,\n",
              " 0.6167076,\n",
              " 0.67076164,\n",
              " 0.5995086,\n",
              " 0.61916465,\n",
              " 0.6363636,\n",
              " 0.5970516,\n",
              " 0.5921376,\n",
              " 0.6830467,\n",
              " 0.62653565,\n",
              " 0.62653565,\n",
              " 0.6363636,\n",
              " 0.64373463,\n",
              " 0.63144964,\n",
              " 0.6412777,\n",
              " 0.67321867,\n",
              " 0.7027027,\n",
              " 0.7027027,\n",
              " 0.69287467,\n",
              " 0.71253073,\n",
              " 0.75184274,\n",
              " 0.71990174,\n",
              " 0.76167077,\n",
              " 0.75184274,\n",
              " 0.73464376,\n",
              " 0.7690418,\n",
              " 0.76167077,\n",
              " 0.76167077,\n",
              " 0.76658475,\n",
              " 0.7714988,\n",
              " 0.75184274,\n",
              " 0.7714988,\n",
              " 0.77395576,\n",
              " 0.7690418,\n",
              " 0.7960688,\n",
              " 0.75429976,\n",
              " 0.7297297,\n",
              " 0.7371007,\n",
              " 0.75429976,\n",
              " 0.73464376,\n",
              " 0.7641278,\n",
              " 0.75921375,\n",
              " 0.74692875,\n",
              " 0.7911548,\n",
              " 0.7813268,\n",
              " 0.7788698,\n",
              " 0.75921375,\n",
              " 0.7567568,\n",
              " 0.7813268,\n",
              " 0.77395576,\n",
              " 0.79361176,\n",
              " 0.7837838,\n",
              " 0.7690418,\n",
              " 0.75921375,\n",
              " 0.7813268,\n",
              " 0.7837838]"
            ]
          },
          "metadata": {
            "tags": []
          },
          "execution_count": 46
        }
      ]
    },
    {
      "cell_type": "code",
      "metadata": {
        "colab": {
          "base_uri": "https://localhost:8080/",
          "height": 282
        },
        "id": "uHj0UkEBoTYK",
        "outputId": "38a01b73-091a-42c0-a581-c2392448c276"
      },
      "source": [
        "plt.plot(results.history['accuracy'])\n",
        "plt.plot(results.history['val_accuracy'])"
      ],
      "execution_count": null,
      "outputs": [
        {
          "output_type": "execute_result",
          "data": {
            "text/plain": [
              "[<matplotlib.lines.Line2D at 0x7f06569e6ed0>]"
            ]
          },
          "metadata": {
            "tags": []
          },
          "execution_count": 66
        },
        {
          "output_type": "display_data",
          "data": {
            "image/png": "[encoded data removed]",
            "text/plain": [
              "<Figure size 432x288 with 1 Axes>"
            ]
          },
          "metadata": {
            "tags": [],
            "needs_background": "light"
          }
        }
      ]
    },
    {
      "cell_type": "code",
      "metadata": {
        "id": "rU_7Njqjop3_"
      },
      "source": [
        "d = '/content/classification/test/1 scale/cropped_leaf.942.png'\n",
        "img = cv2.imread(d)\n",
        "img = cv2.cvtColor(img, cv2.COLOR_BGR2RGB)\n",
        "img = cv2.resize(img, (256,256))\n",
        "img = img.reshape(-1,256,256,3)\n",
        "\n"
      ],
      "execution_count": null,
      "outputs": []
    },
    {
      "cell_type": "code",
      "metadata": {
        "id": "a9O40lXapOSN"
      },
      "source": [
        "predict_class = model.predict_classes(img)"
      ],
      "execution_count": null,
      "outputs": []
    },
    {
      "cell_type": "code",
      "metadata": {
        "colab": {
          "base_uri": "https://localhost:8080/",
          "height": 35
        },
        "id": "nSMOrPt4qhGt",
        "outputId": "e91d8e25-b95c-4f3d-d915-59856cdd8673"
      },
      "source": [
        "categories[predict_class[0]]"
      ],
      "execution_count": null,
      "outputs": [
        {
          "output_type": "execute_result",
          "data": {
            "application/vnd.google.colaboratory.intrinsic+json": {
              "type": "string"
            },
            "text/plain": [
              "'1 scale'"
            ]
          },
          "metadata": {
            "tags": []
          },
          "execution_count": 136
        }
      ]
    },
    {
      "cell_type": "code",
      "metadata": {
        "colab": {
          "base_uri": "https://localhost:8080/"
        },
        "id": "MAinU3uhqf9X",
        "outputId": "cf8f6453-3e50-4761-e970-d31dbfe98219"
      },
      "source": [
        "predict_class"
      ],
      "execution_count": null,
      "outputs": [
        {
          "output_type": "execute_result",
          "data": {
            "text/plain": [
              "array([1])"
            ]
          },
          "metadata": {
            "tags": []
          },
          "execution_count": 137
        }
      ]
    },
    {
      "cell_type": "code",
      "metadata": {
        "id": "eTdoQyr1qpRt"
      },
      "source": [],
      "execution_count": null,
      "outputs": []
    }
  ]
}